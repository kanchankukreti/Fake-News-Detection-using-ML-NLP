{
 "cells": [
  {
   "cell_type": "markdown",
   "id": "956ebed1-ed9f-4be7-800b-cfedb58aab1e",
   "metadata": {},
   "source": [
    "# BERT Model"
   ]
  },
  {
   "cell_type": "code",
   "execution_count": 2,
   "id": "e3f710c3-67b1-4f21-8731-a7f9d578adf3",
   "metadata": {},
   "outputs": [
    {
     "name": "stdout",
     "output_type": "stream",
     "text": [
      "Found existing installation: tensorflow 2.16.2\n",
      "Uninstalling tensorflow-2.16.2:\n",
      "  Successfully uninstalled tensorflow-2.16.2\n",
      "Found existing installation: tensorflow-macos 2.16.2\n",
      "Uninstalling tensorflow-macos-2.16.2:\n",
      "  Successfully uninstalled tensorflow-macos-2.16.2\n",
      "Found existing installation: keras 3.9.0\n",
      "Uninstalling keras-3.9.0:\n",
      "  Successfully uninstalled keras-3.9.0\n",
      "Found existing installation: tensorboard 2.16.2\n",
      "Uninstalling tensorboard-2.16.2:\n",
      "  Successfully uninstalled tensorboard-2.16.2\n",
      "Found existing installation: ml-dtypes 0.3.2\n",
      "Uninstalling ml-dtypes-0.3.2:\n",
      "  Successfully uninstalled ml-dtypes-0.3.2\n",
      "Note: you may need to restart the kernel to use updated packages.\n"
     ]
    }
   ],
   "source": [
    "pip uninstall tensorflow tensorflow-macos keras tensorboard ml-dtypes -y\n"
   ]
  },
  {
   "cell_type": "code",
   "execution_count": 3,
   "id": "08be14fd-2551-47b3-962f-8d1aed6bba1b",
   "metadata": {},
   "outputs": [
    {
     "name": "stdout",
     "output_type": "stream",
     "text": [
      "Collecting tensorflow-macos==2.16.2\n",
      "  Using cached tensorflow_macos-2.16.2-cp312-cp312-macosx_12_0_arm64.whl.metadata (3.3 kB)\n",
      "Requirement already satisfied: tensorflow-metal in /Users/kanchankukreti/miniconda3/lib/python3.12/site-packages (1.2.0)\n",
      "Collecting tensorflow==2.16.2 (from tensorflow-macos==2.16.2)\n",
      "  Using cached tensorflow-2.16.2-cp312-cp312-macosx_12_0_arm64.whl.metadata (4.1 kB)\n",
      "Requirement already satisfied: absl-py>=1.0.0 in /Users/kanchankukreti/miniconda3/lib/python3.12/site-packages (from tensorflow==2.16.2->tensorflow-macos==2.16.2) (2.1.0)\n",
      "Requirement already satisfied: astunparse>=1.6.0 in /Users/kanchankukreti/miniconda3/lib/python3.12/site-packages (from tensorflow==2.16.2->tensorflow-macos==2.16.2) (1.6.3)\n",
      "Requirement already satisfied: flatbuffers>=23.5.26 in /Users/kanchankukreti/miniconda3/lib/python3.12/site-packages (from tensorflow==2.16.2->tensorflow-macos==2.16.2) (25.2.10)\n",
      "Requirement already satisfied: gast!=0.5.0,!=0.5.1,!=0.5.2,>=0.2.1 in /Users/kanchankukreti/miniconda3/lib/python3.12/site-packages (from tensorflow==2.16.2->tensorflow-macos==2.16.2) (0.6.0)\n",
      "Requirement already satisfied: google-pasta>=0.1.1 in /Users/kanchankukreti/miniconda3/lib/python3.12/site-packages (from tensorflow==2.16.2->tensorflow-macos==2.16.2) (0.2.0)\n",
      "Requirement already satisfied: h5py>=3.10.0 in /Users/kanchankukreti/miniconda3/lib/python3.12/site-packages (from tensorflow==2.16.2->tensorflow-macos==2.16.2) (3.12.1)\n",
      "Requirement already satisfied: libclang>=13.0.0 in /Users/kanchankukreti/miniconda3/lib/python3.12/site-packages (from tensorflow==2.16.2->tensorflow-macos==2.16.2) (18.1.1)\n",
      "Collecting ml-dtypes~=0.3.1 (from tensorflow==2.16.2->tensorflow-macos==2.16.2)\n",
      "  Using cached ml_dtypes-0.3.2-cp312-cp312-macosx_10_9_universal2.whl.metadata (20 kB)\n",
      "Requirement already satisfied: opt-einsum>=2.3.2 in /Users/kanchankukreti/miniconda3/lib/python3.12/site-packages (from tensorflow==2.16.2->tensorflow-macos==2.16.2) (3.4.0)\n",
      "Requirement already satisfied: packaging in /Users/kanchankukreti/miniconda3/lib/python3.12/site-packages (from tensorflow==2.16.2->tensorflow-macos==2.16.2) (24.2)\n",
      "Requirement already satisfied: protobuf!=4.21.0,!=4.21.1,!=4.21.2,!=4.21.3,!=4.21.4,!=4.21.5,<5.0.0dev,>=3.20.3 in /Users/kanchankukreti/miniconda3/lib/python3.12/site-packages (from tensorflow==2.16.2->tensorflow-macos==2.16.2) (4.25.3)\n",
      "Requirement already satisfied: requests<3,>=2.21.0 in /Users/kanchankukreti/miniconda3/lib/python3.12/site-packages (from tensorflow==2.16.2->tensorflow-macos==2.16.2) (2.32.3)\n",
      "Requirement already satisfied: setuptools in /Users/kanchankukreti/miniconda3/lib/python3.12/site-packages (from tensorflow==2.16.2->tensorflow-macos==2.16.2) (75.8.0)\n",
      "Requirement already satisfied: six>=1.12.0 in /Users/kanchankukreti/miniconda3/lib/python3.12/site-packages (from tensorflow==2.16.2->tensorflow-macos==2.16.2) (1.17.0)\n",
      "Requirement already satisfied: termcolor>=1.1.0 in /Users/kanchankukreti/miniconda3/lib/python3.12/site-packages (from tensorflow==2.16.2->tensorflow-macos==2.16.2) (2.5.0)\n",
      "Requirement already satisfied: typing-extensions>=3.6.6 in /Users/kanchankukreti/miniconda3/lib/python3.12/site-packages (from tensorflow==2.16.2->tensorflow-macos==2.16.2) (4.12.2)\n",
      "Requirement already satisfied: wrapt>=1.11.0 in /Users/kanchankukreti/miniconda3/lib/python3.12/site-packages (from tensorflow==2.16.2->tensorflow-macos==2.16.2) (1.17.0)\n",
      "Requirement already satisfied: grpcio<2.0,>=1.24.3 in /Users/kanchankukreti/miniconda3/lib/python3.12/site-packages (from tensorflow==2.16.2->tensorflow-macos==2.16.2) (1.62.2)\n",
      "Collecting tensorboard<2.17,>=2.16 (from tensorflow==2.16.2->tensorflow-macos==2.16.2)\n",
      "  Using cached tensorboard-2.16.2-py3-none-any.whl.metadata (1.6 kB)\n",
      "Collecting keras>=3.0.0 (from tensorflow==2.16.2->tensorflow-macos==2.16.2)\n",
      "  Using cached keras-3.9.0-py3-none-any.whl.metadata (6.1 kB)\n",
      "Requirement already satisfied: numpy<2.0.0,>=1.26.0 in /Users/kanchankukreti/miniconda3/lib/python3.12/site-packages (from tensorflow==2.16.2->tensorflow-macos==2.16.2) (1.26.4)\n",
      "Requirement already satisfied: wheel~=0.35 in /Users/kanchankukreti/miniconda3/lib/python3.12/site-packages (from tensorflow-metal) (0.45.1)\n",
      "Requirement already satisfied: rich in /Users/kanchankukreti/miniconda3/lib/python3.12/site-packages (from keras>=3.0.0->tensorflow==2.16.2->tensorflow-macos==2.16.2) (13.9.4)\n",
      "Requirement already satisfied: namex in /Users/kanchankukreti/miniconda3/lib/python3.12/site-packages (from keras>=3.0.0->tensorflow==2.16.2->tensorflow-macos==2.16.2) (0.0.8)\n",
      "Requirement already satisfied: optree in /Users/kanchankukreti/miniconda3/lib/python3.12/site-packages (from keras>=3.0.0->tensorflow==2.16.2->tensorflow-macos==2.16.2) (0.14.1)\n",
      "Requirement already satisfied: charset-normalizer<4,>=2 in /Users/kanchankukreti/miniconda3/lib/python3.12/site-packages (from requests<3,>=2.21.0->tensorflow==2.16.2->tensorflow-macos==2.16.2) (3.3.2)\n",
      "Requirement already satisfied: idna<4,>=2.5 in /Users/kanchankukreti/miniconda3/lib/python3.12/site-packages (from requests<3,>=2.21.0->tensorflow==2.16.2->tensorflow-macos==2.16.2) (3.7)\n",
      "Requirement already satisfied: urllib3<3,>=1.21.1 in /Users/kanchankukreti/miniconda3/lib/python3.12/site-packages (from requests<3,>=2.21.0->tensorflow==2.16.2->tensorflow-macos==2.16.2) (2.3.0)\n",
      "Requirement already satisfied: certifi>=2017.4.17 in /Users/kanchankukreti/miniconda3/lib/python3.12/site-packages (from requests<3,>=2.21.0->tensorflow==2.16.2->tensorflow-macos==2.16.2) (2025.1.31)\n",
      "Requirement already satisfied: markdown>=2.6.8 in /Users/kanchankukreti/miniconda3/lib/python3.12/site-packages (from tensorboard<2.17,>=2.16->tensorflow==2.16.2->tensorflow-macos==2.16.2) (3.6)\n",
      "Requirement already satisfied: tensorboard-data-server<0.8.0,>=0.7.0 in /Users/kanchankukreti/miniconda3/lib/python3.12/site-packages (from tensorboard<2.17,>=2.16->tensorflow==2.16.2->tensorflow-macos==2.16.2) (0.7.0)\n",
      "Requirement already satisfied: werkzeug>=1.0.1 in /Users/kanchankukreti/miniconda3/lib/python3.12/site-packages (from tensorboard<2.17,>=2.16->tensorflow==2.16.2->tensorflow-macos==2.16.2) (3.1.3)\n",
      "Requirement already satisfied: MarkupSafe>=2.1.1 in /Users/kanchankukreti/miniconda3/lib/python3.12/site-packages (from werkzeug>=1.0.1->tensorboard<2.17,>=2.16->tensorflow==2.16.2->tensorflow-macos==2.16.2) (3.0.2)\n",
      "Requirement already satisfied: markdown-it-py>=2.2.0 in /Users/kanchankukreti/miniconda3/lib/python3.12/site-packages (from rich->keras>=3.0.0->tensorflow==2.16.2->tensorflow-macos==2.16.2) (2.2.0)\n",
      "Requirement already satisfied: pygments<3.0.0,>=2.13.0 in /Users/kanchankukreti/miniconda3/lib/python3.12/site-packages (from rich->keras>=3.0.0->tensorflow==2.16.2->tensorflow-macos==2.16.2) (2.15.1)\n",
      "Requirement already satisfied: mdurl~=0.1 in /Users/kanchankukreti/miniconda3/lib/python3.12/site-packages (from markdown-it-py>=2.2.0->rich->keras>=3.0.0->tensorflow==2.16.2->tensorflow-macos==2.16.2) (0.1.0)\n",
      "Using cached tensorflow_macos-2.16.2-cp312-cp312-macosx_12_0_arm64.whl (2.1 kB)\n",
      "Using cached tensorflow-2.16.2-cp312-cp312-macosx_12_0_arm64.whl (227.1 MB)\n",
      "Using cached keras-3.9.0-py3-none-any.whl (1.3 MB)\n",
      "Using cached ml_dtypes-0.3.2-cp312-cp312-macosx_10_9_universal2.whl (393 kB)\n",
      "Using cached tensorboard-2.16.2-py3-none-any.whl (5.5 MB)\n",
      "Installing collected packages: ml-dtypes, tensorboard, keras, tensorflow, tensorflow-macos\n",
      "Successfully installed keras-3.9.0 ml-dtypes-0.3.2 tensorboard-2.16.2 tensorflow-2.16.2 tensorflow-macos-2.16.2\n",
      "Note: you may need to restart the kernel to use updated packages.\n"
     ]
    }
   ],
   "source": [
    "pip install tensorflow-macos==2.16.2 tensorflow-metal\n"
   ]
  },
  {
   "cell_type": "code",
   "execution_count": 4,
   "id": "ec7a1425-71b7-471a-b053-8a97fbceb91d",
   "metadata": {},
   "outputs": [
    {
     "name": "stdout",
     "output_type": "stream",
     "text": [
      "Requirement already satisfied: tf-keras==2.16.0 in /Users/kanchankukreti/miniconda3/lib/python3.12/site-packages (2.16.0)\n",
      "Requirement already satisfied: tensorflow<2.17,>=2.16 in /Users/kanchankukreti/miniconda3/lib/python3.12/site-packages (from tf-keras==2.16.0) (2.16.2)\n",
      "Requirement already satisfied: absl-py>=1.0.0 in /Users/kanchankukreti/miniconda3/lib/python3.12/site-packages (from tensorflow<2.17,>=2.16->tf-keras==2.16.0) (2.1.0)\n",
      "Requirement already satisfied: astunparse>=1.6.0 in /Users/kanchankukreti/miniconda3/lib/python3.12/site-packages (from tensorflow<2.17,>=2.16->tf-keras==2.16.0) (1.6.3)\n",
      "Requirement already satisfied: flatbuffers>=23.5.26 in /Users/kanchankukreti/miniconda3/lib/python3.12/site-packages (from tensorflow<2.17,>=2.16->tf-keras==2.16.0) (25.2.10)\n",
      "Requirement already satisfied: gast!=0.5.0,!=0.5.1,!=0.5.2,>=0.2.1 in /Users/kanchankukreti/miniconda3/lib/python3.12/site-packages (from tensorflow<2.17,>=2.16->tf-keras==2.16.0) (0.6.0)\n",
      "Requirement already satisfied: google-pasta>=0.1.1 in /Users/kanchankukreti/miniconda3/lib/python3.12/site-packages (from tensorflow<2.17,>=2.16->tf-keras==2.16.0) (0.2.0)\n",
      "Requirement already satisfied: h5py>=3.10.0 in /Users/kanchankukreti/miniconda3/lib/python3.12/site-packages (from tensorflow<2.17,>=2.16->tf-keras==2.16.0) (3.12.1)\n",
      "Requirement already satisfied: libclang>=13.0.0 in /Users/kanchankukreti/miniconda3/lib/python3.12/site-packages (from tensorflow<2.17,>=2.16->tf-keras==2.16.0) (18.1.1)\n",
      "Requirement already satisfied: ml-dtypes~=0.3.1 in /Users/kanchankukreti/miniconda3/lib/python3.12/site-packages (from tensorflow<2.17,>=2.16->tf-keras==2.16.0) (0.3.2)\n",
      "Requirement already satisfied: opt-einsum>=2.3.2 in /Users/kanchankukreti/miniconda3/lib/python3.12/site-packages (from tensorflow<2.17,>=2.16->tf-keras==2.16.0) (3.4.0)\n",
      "Requirement already satisfied: packaging in /Users/kanchankukreti/miniconda3/lib/python3.12/site-packages (from tensorflow<2.17,>=2.16->tf-keras==2.16.0) (24.2)\n",
      "Requirement already satisfied: protobuf!=4.21.0,!=4.21.1,!=4.21.2,!=4.21.3,!=4.21.4,!=4.21.5,<5.0.0dev,>=3.20.3 in /Users/kanchankukreti/miniconda3/lib/python3.12/site-packages (from tensorflow<2.17,>=2.16->tf-keras==2.16.0) (4.25.3)\n",
      "Requirement already satisfied: requests<3,>=2.21.0 in /Users/kanchankukreti/miniconda3/lib/python3.12/site-packages (from tensorflow<2.17,>=2.16->tf-keras==2.16.0) (2.32.3)\n",
      "Requirement already satisfied: setuptools in /Users/kanchankukreti/miniconda3/lib/python3.12/site-packages (from tensorflow<2.17,>=2.16->tf-keras==2.16.0) (75.8.0)\n",
      "Requirement already satisfied: six>=1.12.0 in /Users/kanchankukreti/miniconda3/lib/python3.12/site-packages (from tensorflow<2.17,>=2.16->tf-keras==2.16.0) (1.17.0)\n",
      "Requirement already satisfied: termcolor>=1.1.0 in /Users/kanchankukreti/miniconda3/lib/python3.12/site-packages (from tensorflow<2.17,>=2.16->tf-keras==2.16.0) (2.5.0)\n",
      "Requirement already satisfied: typing-extensions>=3.6.6 in /Users/kanchankukreti/miniconda3/lib/python3.12/site-packages (from tensorflow<2.17,>=2.16->tf-keras==2.16.0) (4.12.2)\n",
      "Requirement already satisfied: wrapt>=1.11.0 in /Users/kanchankukreti/miniconda3/lib/python3.12/site-packages (from tensorflow<2.17,>=2.16->tf-keras==2.16.0) (1.17.0)\n",
      "Requirement already satisfied: grpcio<2.0,>=1.24.3 in /Users/kanchankukreti/miniconda3/lib/python3.12/site-packages (from tensorflow<2.17,>=2.16->tf-keras==2.16.0) (1.62.2)\n",
      "Requirement already satisfied: tensorboard<2.17,>=2.16 in /Users/kanchankukreti/miniconda3/lib/python3.12/site-packages (from tensorflow<2.17,>=2.16->tf-keras==2.16.0) (2.16.2)\n",
      "Requirement already satisfied: keras>=3.0.0 in /Users/kanchankukreti/miniconda3/lib/python3.12/site-packages (from tensorflow<2.17,>=2.16->tf-keras==2.16.0) (3.9.0)\n",
      "Requirement already satisfied: numpy<2.0.0,>=1.26.0 in /Users/kanchankukreti/miniconda3/lib/python3.12/site-packages (from tensorflow<2.17,>=2.16->tf-keras==2.16.0) (1.26.4)\n",
      "Requirement already satisfied: rich in /Users/kanchankukreti/miniconda3/lib/python3.12/site-packages (from keras>=3.0.0->tensorflow<2.17,>=2.16->tf-keras==2.16.0) (13.9.4)\n",
      "Requirement already satisfied: namex in /Users/kanchankukreti/miniconda3/lib/python3.12/site-packages (from keras>=3.0.0->tensorflow<2.17,>=2.16->tf-keras==2.16.0) (0.0.8)\n",
      "Requirement already satisfied: optree in /Users/kanchankukreti/miniconda3/lib/python3.12/site-packages (from keras>=3.0.0->tensorflow<2.17,>=2.16->tf-keras==2.16.0) (0.14.1)\n",
      "Requirement already satisfied: charset-normalizer<4,>=2 in /Users/kanchankukreti/miniconda3/lib/python3.12/site-packages (from requests<3,>=2.21.0->tensorflow<2.17,>=2.16->tf-keras==2.16.0) (3.3.2)\n",
      "Requirement already satisfied: idna<4,>=2.5 in /Users/kanchankukreti/miniconda3/lib/python3.12/site-packages (from requests<3,>=2.21.0->tensorflow<2.17,>=2.16->tf-keras==2.16.0) (3.7)\n",
      "Requirement already satisfied: urllib3<3,>=1.21.1 in /Users/kanchankukreti/miniconda3/lib/python3.12/site-packages (from requests<3,>=2.21.0->tensorflow<2.17,>=2.16->tf-keras==2.16.0) (2.3.0)\n",
      "Requirement already satisfied: certifi>=2017.4.17 in /Users/kanchankukreti/miniconda3/lib/python3.12/site-packages (from requests<3,>=2.21.0->tensorflow<2.17,>=2.16->tf-keras==2.16.0) (2025.1.31)\n",
      "Requirement already satisfied: markdown>=2.6.8 in /Users/kanchankukreti/miniconda3/lib/python3.12/site-packages (from tensorboard<2.17,>=2.16->tensorflow<2.17,>=2.16->tf-keras==2.16.0) (3.6)\n",
      "Requirement already satisfied: tensorboard-data-server<0.8.0,>=0.7.0 in /Users/kanchankukreti/miniconda3/lib/python3.12/site-packages (from tensorboard<2.17,>=2.16->tensorflow<2.17,>=2.16->tf-keras==2.16.0) (0.7.0)\n",
      "Requirement already satisfied: werkzeug>=1.0.1 in /Users/kanchankukreti/miniconda3/lib/python3.12/site-packages (from tensorboard<2.17,>=2.16->tensorflow<2.17,>=2.16->tf-keras==2.16.0) (3.1.3)\n",
      "Requirement already satisfied: MarkupSafe>=2.1.1 in /Users/kanchankukreti/miniconda3/lib/python3.12/site-packages (from werkzeug>=1.0.1->tensorboard<2.17,>=2.16->tensorflow<2.17,>=2.16->tf-keras==2.16.0) (3.0.2)\n",
      "Requirement already satisfied: markdown-it-py>=2.2.0 in /Users/kanchankukreti/miniconda3/lib/python3.12/site-packages (from rich->keras>=3.0.0->tensorflow<2.17,>=2.16->tf-keras==2.16.0) (2.2.0)\n",
      "Requirement already satisfied: pygments<3.0.0,>=2.13.0 in /Users/kanchankukreti/miniconda3/lib/python3.12/site-packages (from rich->keras>=3.0.0->tensorflow<2.17,>=2.16->tf-keras==2.16.0) (2.15.1)\n",
      "Requirement already satisfied: mdurl~=0.1 in /Users/kanchankukreti/miniconda3/lib/python3.12/site-packages (from markdown-it-py>=2.2.0->rich->keras>=3.0.0->tensorflow<2.17,>=2.16->tf-keras==2.16.0) (0.1.0)\n",
      "Note: you may need to restart the kernel to use updated packages.\n"
     ]
    }
   ],
   "source": [
    "pip install tf-keras==2.16.0\n"
   ]
  },
  {
   "cell_type": "code",
   "execution_count": 5,
   "id": "66acbab5-1bdd-40d4-a76d-4d5fdc06761d",
   "metadata": {},
   "outputs": [],
   "source": [
    "import os\n",
    "os.environ[\"TF_USE_LEGACY_KERAS\"] = \"True\"\n",
    "import tensorflow as tf\n"
   ]
  },
  {
   "cell_type": "code",
   "execution_count": 6,
   "id": "95f5b9a3-0564-43e0-ae09-ba88b438d3b0",
   "metadata": {},
   "outputs": [],
   "source": [
    "import os\n",
    "os.environ[\"TF_USE_LEGACY_KERAS\"] = \"True\"\n",
    "import tensorflow as tf\n"
   ]
  },
  {
   "cell_type": "code",
   "execution_count": 7,
   "id": "cac3c14b-cb51-4c8e-8f14-5535069e3a19",
   "metadata": {},
   "outputs": [
    {
     "name": "stdout",
     "output_type": "stream",
     "text": [
      "TensorFlow Version: 2.16.2\n",
      "Keras Version: tf-keras is being used\n"
     ]
    }
   ],
   "source": [
    "import tensorflow as tf\n",
    "print(f\"TensorFlow Version: {tf.__version__}\")\n",
    "print(f\"Keras Version: {tf.keras.__dict__.get('__version__', 'tf-keras is being used')}\")\n"
   ]
  },
  {
   "cell_type": "code",
   "execution_count": 8,
   "id": "9ff2184b-f6a6-4c66-87d8-c50daf8822bf",
   "metadata": {},
   "outputs": [
    {
     "name": "stderr",
     "output_type": "stream",
     "text": [
      "Transformers is only compatible with Keras 2, but you have explicitly set `TF_USE_LEGACY_KERAS` to `0`. This may result in unexpected behaviour or errors if Keras 3 objects are passed to Transformers models.\n"
     ]
    }
   ],
   "source": [
    "import tensorflow as tf\n",
    "import numpy as np\n",
    "import pandas as pd\n",
    "from transformers import BertTokenizer, TFBertForSequenceClassification\n",
    "from datasets import load_dataset  # Load dataset from Hugging Face\n",
    "from sklearn.model_selection import train_test_split\n",
    "from tensorflow.keras.optimizers import Adam\n",
    "from tensorflow.keras.losses import SparseCategoricalCrossentropy\n",
    "from tensorflow.keras.metrics import Accuracy\n"
   ]
  },
  {
   "cell_type": "code",
   "execution_count": 9,
   "id": "b0ab2262-37cb-4d77-bb4b-4984af9c49d9",
   "metadata": {},
   "outputs": [
    {
     "name": "stdout",
     "output_type": "stream",
     "text": [
      "Dataset Loaded Successfully!\n"
     ]
    }
   ],
   "source": [
    "from transformers import BertTokenizer, TFBertForSequenceClassification\n",
    "from tensorflow.keras.optimizers.legacy import Adam  # Use TF's Legacy Adam Optimizer\n",
    "import tensorflow as tf\n",
    "import numpy as np\n",
    "import pandas as pd\n",
    "from sklearn.model_selection import train_test_split\n",
    "from sklearn.metrics import accuracy_score, classification_report, confusion_matrix\n",
    "import seaborn as sns\n",
    "import matplotlib.pyplot as plt\n",
    "\n",
    "# Load Dataset\n",
    "file_path = \"final_ml_ready_dataset.csv\"  # Ensure this file is in the correct directory\n",
    "try:\n",
    "    data = pd.read_csv(file_path)\n",
    "    print(\"Dataset Loaded Successfully!\")\n",
    "except FileNotFoundError:\n",
    "    print(f\"Error: File '{file_path}' not found!\")\n",
    "    exit()\n",
    "\n"
   ]
  },
  {
   "cell_type": "code",
   "execution_count": 10,
   "id": "198dc9ea-c799-46b5-a4ad-07ae7b0c2ca3",
   "metadata": {},
   "outputs": [],
   "source": [
    "# Load Pre-trained BERT Tokenizer\n",
    "bert_tokenizer = BertTokenizer.from_pretrained(\"bert-base-uncased\")"
   ]
  },
  {
   "cell_type": "code",
   "execution_count": 11,
   "id": "e43955ad-4883-41e1-8921-4bb204688a57",
   "metadata": {},
   "outputs": [
    {
     "name": "stderr",
     "output_type": "stream",
     "text": [
      "2025-03-06 18:11:18.544896: I metal_plugin/src/device/metal_device.cc:1154] Metal device set to: Apple M3 Pro\n",
      "2025-03-06 18:11:18.545123: I metal_plugin/src/device/metal_device.cc:296] systemMemory: 18.00 GB\n",
      "2025-03-06 18:11:18.545137: I metal_plugin/src/device/metal_device.cc:313] maxCacheSize: 6.00 GB\n",
      "2025-03-06 18:11:18.545206: I tensorflow/core/common_runtime/pluggable_device/pluggable_device_factory.cc:305] Could not identify NUMA node of platform GPU ID 0, defaulting to 0. Your kernel may not have been built with NUMA support.\n",
      "2025-03-06 18:11:18.545228: I tensorflow/core/common_runtime/pluggable_device/pluggable_device_factory.cc:271] Created TensorFlow device (/job:localhost/replica:0/task:0/device:GPU:0 with 0 MB memory) -> physical PluggableDevice (device: 0, name: METAL, pci bus id: <undefined>)\n"
     ]
    }
   ],
   "source": [
    "# Tokenize & Encode Dataset\n",
    "def encode_texts(texts, tokenizer, max_length=300):\n",
    "    return tokenizer(list(texts), padding=\"max_length\", truncation=True, max_length=max_length, return_tensors=\"tf\")\n",
    "\n",
    "# Encode dataset\n",
    "X_encoded = encode_texts(data[\"text_cleaned\"], bert_tokenizer)\n"
   ]
  },
  {
   "cell_type": "code",
   "execution_count": 12,
   "id": "152c6aff-82f9-45cd-9c3b-416caf6aff48",
   "metadata": {},
   "outputs": [],
   "source": [
    "# Tokenize & Encode Dataset\n",
    "def encode_texts(texts, tokenizer, max_length=300):\n",
    "    return tokenizer(list(texts), padding=\"max_length\", truncation=True, max_length=max_length, return_tensors=\"tf\")\n"
   ]
  },
  {
   "cell_type": "code",
   "execution_count": 13,
   "id": "8acefc30-7db3-4376-88b2-23dbff777679",
   "metadata": {},
   "outputs": [],
   "source": [
    " # Encode dataset\n",
    "X_encoded = encode_texts(data[\"text_cleaned\"], bert_tokenizer)"
   ]
  },
  {
   "cell_type": "code",
   "execution_count": 14,
   "id": "13c88774-e4de-401d-b5b2-f55a001165cd",
   "metadata": {},
   "outputs": [],
   "source": [
    "# Convert TensorFlow tensors to NumPy arrays for train-test split\n",
    "X_input_ids = np.array(X_encoded[\"input_ids\"])\n",
    "y = data[\"label\"].values  # Target variable"
   ]
  },
  {
   "cell_type": "code",
   "execution_count": 15,
   "id": "61d2614d-2537-4eff-a338-6c1c7b76bd6f",
   "metadata": {},
   "outputs": [],
   "source": [
    "# Split Dataset (80% Train, 20% Test)\n",
    "X_train_enc, X_test_enc, y_train_enc, y_test_enc = train_test_split(\n",
    "    X_input_ids, y, test_size=0.2, random_state=42\n",
    ")"
   ]
  },
  {
   "cell_type": "code",
   "execution_count": 16,
   "id": "9426e295-451f-4161-ab22-a69c438f9bde",
   "metadata": {},
   "outputs": [],
   "source": [
    "# Convert to TensorFlow Dataset for Efficient Training\n",
    "train_dataset = tf.data.Dataset.from_tensor_slices((X_train_enc, y_train_enc)).batch(16)\n",
    "test_dataset = tf.data.Dataset.from_tensor_slices((X_test_enc, y_test_enc)).batch(16)"
   ]
  },
  {
   "cell_type": "code",
   "execution_count": 17,
   "id": "7d8637ac-6eb9-4c68-bd09-c7ed23c19fd6",
   "metadata": {},
   "outputs": [
    {
     "name": "stdout",
     "output_type": "stream",
     "text": [
      "Found existing installation: keras 3.9.0\n",
      "Uninstalling keras-3.9.0:\n",
      "  Successfully uninstalled keras-3.9.0\n",
      "Note: you may need to restart the kernel to use updated packages.\n"
     ]
    }
   ],
   "source": [
    "pip uninstall keras -y\n"
   ]
  },
  {
   "cell_type": "code",
   "execution_count": 18,
   "id": "947e7f04-77f3-4dc3-a752-8a83ba9f3e97",
   "metadata": {},
   "outputs": [
    {
     "name": "stdout",
     "output_type": "stream",
     "text": [
      "Requirement already satisfied: tf-keras==2.16.0 in /Users/kanchankukreti/miniconda3/lib/python3.12/site-packages (2.16.0)\n",
      "Requirement already satisfied: tensorflow<2.17,>=2.16 in /Users/kanchankukreti/miniconda3/lib/python3.12/site-packages (from tf-keras==2.16.0) (2.16.2)\n",
      "Requirement already satisfied: absl-py>=1.0.0 in /Users/kanchankukreti/miniconda3/lib/python3.12/site-packages (from tensorflow<2.17,>=2.16->tf-keras==2.16.0) (2.1.0)\n",
      "Requirement already satisfied: astunparse>=1.6.0 in /Users/kanchankukreti/miniconda3/lib/python3.12/site-packages (from tensorflow<2.17,>=2.16->tf-keras==2.16.0) (1.6.3)\n",
      "Requirement already satisfied: flatbuffers>=23.5.26 in /Users/kanchankukreti/miniconda3/lib/python3.12/site-packages (from tensorflow<2.17,>=2.16->tf-keras==2.16.0) (25.2.10)\n",
      "Requirement already satisfied: gast!=0.5.0,!=0.5.1,!=0.5.2,>=0.2.1 in /Users/kanchankukreti/miniconda3/lib/python3.12/site-packages (from tensorflow<2.17,>=2.16->tf-keras==2.16.0) (0.6.0)\n",
      "Requirement already satisfied: google-pasta>=0.1.1 in /Users/kanchankukreti/miniconda3/lib/python3.12/site-packages (from tensorflow<2.17,>=2.16->tf-keras==2.16.0) (0.2.0)\n",
      "Requirement already satisfied: h5py>=3.10.0 in /Users/kanchankukreti/miniconda3/lib/python3.12/site-packages (from tensorflow<2.17,>=2.16->tf-keras==2.16.0) (3.12.1)\n",
      "Requirement already satisfied: libclang>=13.0.0 in /Users/kanchankukreti/miniconda3/lib/python3.12/site-packages (from tensorflow<2.17,>=2.16->tf-keras==2.16.0) (18.1.1)\n",
      "Requirement already satisfied: ml-dtypes~=0.3.1 in /Users/kanchankukreti/miniconda3/lib/python3.12/site-packages (from tensorflow<2.17,>=2.16->tf-keras==2.16.0) (0.3.2)\n",
      "Requirement already satisfied: opt-einsum>=2.3.2 in /Users/kanchankukreti/miniconda3/lib/python3.12/site-packages (from tensorflow<2.17,>=2.16->tf-keras==2.16.0) (3.4.0)\n",
      "Requirement already satisfied: packaging in /Users/kanchankukreti/miniconda3/lib/python3.12/site-packages (from tensorflow<2.17,>=2.16->tf-keras==2.16.0) (24.2)\n",
      "Requirement already satisfied: protobuf!=4.21.0,!=4.21.1,!=4.21.2,!=4.21.3,!=4.21.4,!=4.21.5,<5.0.0dev,>=3.20.3 in /Users/kanchankukreti/miniconda3/lib/python3.12/site-packages (from tensorflow<2.17,>=2.16->tf-keras==2.16.0) (4.25.3)\n",
      "Requirement already satisfied: requests<3,>=2.21.0 in /Users/kanchankukreti/miniconda3/lib/python3.12/site-packages (from tensorflow<2.17,>=2.16->tf-keras==2.16.0) (2.32.3)\n",
      "Requirement already satisfied: setuptools in /Users/kanchankukreti/miniconda3/lib/python3.12/site-packages (from tensorflow<2.17,>=2.16->tf-keras==2.16.0) (75.8.0)\n",
      "Requirement already satisfied: six>=1.12.0 in /Users/kanchankukreti/miniconda3/lib/python3.12/site-packages (from tensorflow<2.17,>=2.16->tf-keras==2.16.0) (1.17.0)\n",
      "Requirement already satisfied: termcolor>=1.1.0 in /Users/kanchankukreti/miniconda3/lib/python3.12/site-packages (from tensorflow<2.17,>=2.16->tf-keras==2.16.0) (2.5.0)\n",
      "Requirement already satisfied: typing-extensions>=3.6.6 in /Users/kanchankukreti/miniconda3/lib/python3.12/site-packages (from tensorflow<2.17,>=2.16->tf-keras==2.16.0) (4.12.2)\n",
      "Requirement already satisfied: wrapt>=1.11.0 in /Users/kanchankukreti/miniconda3/lib/python3.12/site-packages (from tensorflow<2.17,>=2.16->tf-keras==2.16.0) (1.17.0)\n",
      "Requirement already satisfied: grpcio<2.0,>=1.24.3 in /Users/kanchankukreti/miniconda3/lib/python3.12/site-packages (from tensorflow<2.17,>=2.16->tf-keras==2.16.0) (1.62.2)\n",
      "Requirement already satisfied: tensorboard<2.17,>=2.16 in /Users/kanchankukreti/miniconda3/lib/python3.12/site-packages (from tensorflow<2.17,>=2.16->tf-keras==2.16.0) (2.16.2)\n",
      "Collecting keras>=3.0.0 (from tensorflow<2.17,>=2.16->tf-keras==2.16.0)\n",
      "  Using cached keras-3.9.0-py3-none-any.whl.metadata (6.1 kB)\n",
      "Requirement already satisfied: numpy<2.0.0,>=1.26.0 in /Users/kanchankukreti/miniconda3/lib/python3.12/site-packages (from tensorflow<2.17,>=2.16->tf-keras==2.16.0) (1.26.4)\n",
      "Requirement already satisfied: rich in /Users/kanchankukreti/miniconda3/lib/python3.12/site-packages (from keras>=3.0.0->tensorflow<2.17,>=2.16->tf-keras==2.16.0) (13.9.4)\n",
      "Requirement already satisfied: namex in /Users/kanchankukreti/miniconda3/lib/python3.12/site-packages (from keras>=3.0.0->tensorflow<2.17,>=2.16->tf-keras==2.16.0) (0.0.8)\n",
      "Requirement already satisfied: optree in /Users/kanchankukreti/miniconda3/lib/python3.12/site-packages (from keras>=3.0.0->tensorflow<2.17,>=2.16->tf-keras==2.16.0) (0.14.1)\n",
      "Requirement already satisfied: charset-normalizer<4,>=2 in /Users/kanchankukreti/miniconda3/lib/python3.12/site-packages (from requests<3,>=2.21.0->tensorflow<2.17,>=2.16->tf-keras==2.16.0) (3.3.2)\n",
      "Requirement already satisfied: idna<4,>=2.5 in /Users/kanchankukreti/miniconda3/lib/python3.12/site-packages (from requests<3,>=2.21.0->tensorflow<2.17,>=2.16->tf-keras==2.16.0) (3.7)\n",
      "Requirement already satisfied: urllib3<3,>=1.21.1 in /Users/kanchankukreti/miniconda3/lib/python3.12/site-packages (from requests<3,>=2.21.0->tensorflow<2.17,>=2.16->tf-keras==2.16.0) (2.3.0)\n",
      "Requirement already satisfied: certifi>=2017.4.17 in /Users/kanchankukreti/miniconda3/lib/python3.12/site-packages (from requests<3,>=2.21.0->tensorflow<2.17,>=2.16->tf-keras==2.16.0) (2025.1.31)\n",
      "Requirement already satisfied: markdown>=2.6.8 in /Users/kanchankukreti/miniconda3/lib/python3.12/site-packages (from tensorboard<2.17,>=2.16->tensorflow<2.17,>=2.16->tf-keras==2.16.0) (3.6)\n",
      "Requirement already satisfied: tensorboard-data-server<0.8.0,>=0.7.0 in /Users/kanchankukreti/miniconda3/lib/python3.12/site-packages (from tensorboard<2.17,>=2.16->tensorflow<2.17,>=2.16->tf-keras==2.16.0) (0.7.0)\n",
      "Requirement already satisfied: werkzeug>=1.0.1 in /Users/kanchankukreti/miniconda3/lib/python3.12/site-packages (from tensorboard<2.17,>=2.16->tensorflow<2.17,>=2.16->tf-keras==2.16.0) (3.1.3)\n",
      "Requirement already satisfied: MarkupSafe>=2.1.1 in /Users/kanchankukreti/miniconda3/lib/python3.12/site-packages (from werkzeug>=1.0.1->tensorboard<2.17,>=2.16->tensorflow<2.17,>=2.16->tf-keras==2.16.0) (3.0.2)\n",
      "Requirement already satisfied: markdown-it-py>=2.2.0 in /Users/kanchankukreti/miniconda3/lib/python3.12/site-packages (from rich->keras>=3.0.0->tensorflow<2.17,>=2.16->tf-keras==2.16.0) (2.2.0)\n",
      "Requirement already satisfied: pygments<3.0.0,>=2.13.0 in /Users/kanchankukreti/miniconda3/lib/python3.12/site-packages (from rich->keras>=3.0.0->tensorflow<2.17,>=2.16->tf-keras==2.16.0) (2.15.1)\n",
      "Requirement already satisfied: mdurl~=0.1 in /Users/kanchankukreti/miniconda3/lib/python3.12/site-packages (from markdown-it-py>=2.2.0->rich->keras>=3.0.0->tensorflow<2.17,>=2.16->tf-keras==2.16.0) (0.1.0)\n",
      "Using cached keras-3.9.0-py3-none-any.whl (1.3 MB)\n",
      "Installing collected packages: keras\n",
      "Successfully installed keras-3.9.0\n",
      "Note: you may need to restart the kernel to use updated packages.\n"
     ]
    }
   ],
   "source": [
    "pip install tf-keras==2.16.0\n"
   ]
  },
  {
   "cell_type": "code",
   "execution_count": 19,
   "id": "779d1740-7384-4626-b414-05c1318d5ec8",
   "metadata": {},
   "outputs": [],
   "source": [
    "import os\n",
    "os.environ[\"TF_USE_LEGACY_KERAS\"] = \"True\"\n",
    "import tensorflow as tf\n"
   ]
  },
  {
   "cell_type": "code",
   "execution_count": 20,
   "id": "e5df2516-cfd6-411c-9cda-4be573daeb60",
   "metadata": {},
   "outputs": [
    {
     "name": "stdout",
     "output_type": "stream",
     "text": [
      "Found existing installation: keras 3.9.0\n",
      "Uninstalling keras-3.9.0:\n",
      "  Successfully uninstalled keras-3.9.0\n",
      "Note: you may need to restart the kernel to use updated packages.\n"
     ]
    }
   ],
   "source": [
    "pip uninstall keras -y\n"
   ]
  },
  {
   "cell_type": "code",
   "execution_count": 21,
   "id": "c6b602b4-ccc5-4bf1-b58d-8382579a4287",
   "metadata": {},
   "outputs": [
    {
     "name": "stdout",
     "output_type": "stream",
     "text": [
      "Requirement already satisfied: tf-keras==2.16.0 in /Users/kanchankukreti/miniconda3/lib/python3.12/site-packages (2.16.0)\n",
      "Requirement already satisfied: tensorflow<2.17,>=2.16 in /Users/kanchankukreti/miniconda3/lib/python3.12/site-packages (from tf-keras==2.16.0) (2.16.2)\n",
      "Requirement already satisfied: absl-py>=1.0.0 in /Users/kanchankukreti/miniconda3/lib/python3.12/site-packages (from tensorflow<2.17,>=2.16->tf-keras==2.16.0) (2.1.0)\n",
      "Requirement already satisfied: astunparse>=1.6.0 in /Users/kanchankukreti/miniconda3/lib/python3.12/site-packages (from tensorflow<2.17,>=2.16->tf-keras==2.16.0) (1.6.3)\n",
      "Requirement already satisfied: flatbuffers>=23.5.26 in /Users/kanchankukreti/miniconda3/lib/python3.12/site-packages (from tensorflow<2.17,>=2.16->tf-keras==2.16.0) (25.2.10)\n",
      "Requirement already satisfied: gast!=0.5.0,!=0.5.1,!=0.5.2,>=0.2.1 in /Users/kanchankukreti/miniconda3/lib/python3.12/site-packages (from tensorflow<2.17,>=2.16->tf-keras==2.16.0) (0.6.0)\n",
      "Requirement already satisfied: google-pasta>=0.1.1 in /Users/kanchankukreti/miniconda3/lib/python3.12/site-packages (from tensorflow<2.17,>=2.16->tf-keras==2.16.0) (0.2.0)\n",
      "Requirement already satisfied: h5py>=3.10.0 in /Users/kanchankukreti/miniconda3/lib/python3.12/site-packages (from tensorflow<2.17,>=2.16->tf-keras==2.16.0) (3.12.1)\n",
      "Requirement already satisfied: libclang>=13.0.0 in /Users/kanchankukreti/miniconda3/lib/python3.12/site-packages (from tensorflow<2.17,>=2.16->tf-keras==2.16.0) (18.1.1)\n",
      "Requirement already satisfied: ml-dtypes~=0.3.1 in /Users/kanchankukreti/miniconda3/lib/python3.12/site-packages (from tensorflow<2.17,>=2.16->tf-keras==2.16.0) (0.3.2)\n",
      "Requirement already satisfied: opt-einsum>=2.3.2 in /Users/kanchankukreti/miniconda3/lib/python3.12/site-packages (from tensorflow<2.17,>=2.16->tf-keras==2.16.0) (3.4.0)\n",
      "Requirement already satisfied: packaging in /Users/kanchankukreti/miniconda3/lib/python3.12/site-packages (from tensorflow<2.17,>=2.16->tf-keras==2.16.0) (24.2)\n",
      "Requirement already satisfied: protobuf!=4.21.0,!=4.21.1,!=4.21.2,!=4.21.3,!=4.21.4,!=4.21.5,<5.0.0dev,>=3.20.3 in /Users/kanchankukreti/miniconda3/lib/python3.12/site-packages (from tensorflow<2.17,>=2.16->tf-keras==2.16.0) (4.25.3)\n",
      "Requirement already satisfied: requests<3,>=2.21.0 in /Users/kanchankukreti/miniconda3/lib/python3.12/site-packages (from tensorflow<2.17,>=2.16->tf-keras==2.16.0) (2.32.3)\n",
      "Requirement already satisfied: setuptools in /Users/kanchankukreti/miniconda3/lib/python3.12/site-packages (from tensorflow<2.17,>=2.16->tf-keras==2.16.0) (75.8.0)\n",
      "Requirement already satisfied: six>=1.12.0 in /Users/kanchankukreti/miniconda3/lib/python3.12/site-packages (from tensorflow<2.17,>=2.16->tf-keras==2.16.0) (1.17.0)\n",
      "Requirement already satisfied: termcolor>=1.1.0 in /Users/kanchankukreti/miniconda3/lib/python3.12/site-packages (from tensorflow<2.17,>=2.16->tf-keras==2.16.0) (2.5.0)\n",
      "Requirement already satisfied: typing-extensions>=3.6.6 in /Users/kanchankukreti/miniconda3/lib/python3.12/site-packages (from tensorflow<2.17,>=2.16->tf-keras==2.16.0) (4.12.2)\n",
      "Requirement already satisfied: wrapt>=1.11.0 in /Users/kanchankukreti/miniconda3/lib/python3.12/site-packages (from tensorflow<2.17,>=2.16->tf-keras==2.16.0) (1.17.0)\n",
      "Requirement already satisfied: grpcio<2.0,>=1.24.3 in /Users/kanchankukreti/miniconda3/lib/python3.12/site-packages (from tensorflow<2.17,>=2.16->tf-keras==2.16.0) (1.62.2)\n",
      "Requirement already satisfied: tensorboard<2.17,>=2.16 in /Users/kanchankukreti/miniconda3/lib/python3.12/site-packages (from tensorflow<2.17,>=2.16->tf-keras==2.16.0) (2.16.2)\n",
      "Collecting keras>=3.0.0 (from tensorflow<2.17,>=2.16->tf-keras==2.16.0)\n",
      "  Using cached keras-3.9.0-py3-none-any.whl.metadata (6.1 kB)\n",
      "Requirement already satisfied: numpy<2.0.0,>=1.26.0 in /Users/kanchankukreti/miniconda3/lib/python3.12/site-packages (from tensorflow<2.17,>=2.16->tf-keras==2.16.0) (1.26.4)\n",
      "Requirement already satisfied: rich in /Users/kanchankukreti/miniconda3/lib/python3.12/site-packages (from keras>=3.0.0->tensorflow<2.17,>=2.16->tf-keras==2.16.0) (13.9.4)\n",
      "Requirement already satisfied: namex in /Users/kanchankukreti/miniconda3/lib/python3.12/site-packages (from keras>=3.0.0->tensorflow<2.17,>=2.16->tf-keras==2.16.0) (0.0.8)\n",
      "Requirement already satisfied: optree in /Users/kanchankukreti/miniconda3/lib/python3.12/site-packages (from keras>=3.0.0->tensorflow<2.17,>=2.16->tf-keras==2.16.0) (0.14.1)\n",
      "Requirement already satisfied: charset-normalizer<4,>=2 in /Users/kanchankukreti/miniconda3/lib/python3.12/site-packages (from requests<3,>=2.21.0->tensorflow<2.17,>=2.16->tf-keras==2.16.0) (3.3.2)\n",
      "Requirement already satisfied: idna<4,>=2.5 in /Users/kanchankukreti/miniconda3/lib/python3.12/site-packages (from requests<3,>=2.21.0->tensorflow<2.17,>=2.16->tf-keras==2.16.0) (3.7)\n",
      "Requirement already satisfied: urllib3<3,>=1.21.1 in /Users/kanchankukreti/miniconda3/lib/python3.12/site-packages (from requests<3,>=2.21.0->tensorflow<2.17,>=2.16->tf-keras==2.16.0) (2.3.0)\n",
      "Requirement already satisfied: certifi>=2017.4.17 in /Users/kanchankukreti/miniconda3/lib/python3.12/site-packages (from requests<3,>=2.21.0->tensorflow<2.17,>=2.16->tf-keras==2.16.0) (2025.1.31)\n",
      "Requirement already satisfied: markdown>=2.6.8 in /Users/kanchankukreti/miniconda3/lib/python3.12/site-packages (from tensorboard<2.17,>=2.16->tensorflow<2.17,>=2.16->tf-keras==2.16.0) (3.6)\n",
      "Requirement already satisfied: tensorboard-data-server<0.8.0,>=0.7.0 in /Users/kanchankukreti/miniconda3/lib/python3.12/site-packages (from tensorboard<2.17,>=2.16->tensorflow<2.17,>=2.16->tf-keras==2.16.0) (0.7.0)\n",
      "Requirement already satisfied: werkzeug>=1.0.1 in /Users/kanchankukreti/miniconda3/lib/python3.12/site-packages (from tensorboard<2.17,>=2.16->tensorflow<2.17,>=2.16->tf-keras==2.16.0) (3.1.3)\n",
      "Requirement already satisfied: MarkupSafe>=2.1.1 in /Users/kanchankukreti/miniconda3/lib/python3.12/site-packages (from werkzeug>=1.0.1->tensorboard<2.17,>=2.16->tensorflow<2.17,>=2.16->tf-keras==2.16.0) (3.0.2)\n",
      "Requirement already satisfied: markdown-it-py>=2.2.0 in /Users/kanchankukreti/miniconda3/lib/python3.12/site-packages (from rich->keras>=3.0.0->tensorflow<2.17,>=2.16->tf-keras==2.16.0) (2.2.0)\n",
      "Requirement already satisfied: pygments<3.0.0,>=2.13.0 in /Users/kanchankukreti/miniconda3/lib/python3.12/site-packages (from rich->keras>=3.0.0->tensorflow<2.17,>=2.16->tf-keras==2.16.0) (2.15.1)\n",
      "Requirement already satisfied: mdurl~=0.1 in /Users/kanchankukreti/miniconda3/lib/python3.12/site-packages (from markdown-it-py>=2.2.0->rich->keras>=3.0.0->tensorflow<2.17,>=2.16->tf-keras==2.16.0) (0.1.0)\n",
      "Using cached keras-3.9.0-py3-none-any.whl (1.3 MB)\n",
      "Installing collected packages: keras\n",
      "Successfully installed keras-3.9.0\n",
      "Note: you may need to restart the kernel to use updated packages.\n"
     ]
    }
   ],
   "source": [
    "pip install tf-keras==2.16.0\n"
   ]
  },
  {
   "cell_type": "code",
   "execution_count": 22,
   "id": "cb4a066c-d23a-47b2-9fad-a6da67352112",
   "metadata": {},
   "outputs": [],
   "source": [
    "import os\n",
    "os.environ[\"TF_USE_LEGACY_KERAS\"] = \"True\"\n",
    "import tensorflow as tf\n"
   ]
  },
  {
   "cell_type": "code",
   "execution_count": 23,
   "id": "b996bd03-a38a-49f2-a61c-201b90958724",
   "metadata": {},
   "outputs": [
    {
     "name": "stdout",
     "output_type": "stream",
     "text": [
      "TensorFlow Version: 2.16.2\n",
      "Keras Version: tf-keras is being used\n"
     ]
    }
   ],
   "source": [
    "import tensorflow as tf\n",
    "print(f\"TensorFlow Version: {tf.__version__}\")\n",
    "print(f\"Keras Version: {tf.keras.__dict__.get('__version__', 'tf-keras is being used')}\")\n"
   ]
  },
  {
   "cell_type": "code",
   "execution_count": 24,
   "id": "b3cd1393-afdb-425b-b63e-a2499a20df26",
   "metadata": {},
   "outputs": [],
   "source": [
    "import os\n",
    "os.environ[\"TF_USE_LEGACY_KERAS\"] = \"True\"\n",
    "import tensorflow as tf\n"
   ]
  },
  {
   "cell_type": "code",
   "execution_count": 25,
   "id": "c814114f-b980-44bc-ad15-55dae33ece4f",
   "metadata": {},
   "outputs": [
    {
     "name": "stderr",
     "output_type": "stream",
     "text": [
      "All PyTorch model weights were used when initializing TFBertForSequenceClassification.\n",
      "\n",
      "Some weights or buffers of the TF 2.0 model TFBertForSequenceClassification were not initialized from the PyTorch model and are newly initialized: ['classifier.weight', 'classifier.bias']\n",
      "You should probably TRAIN this model on a down-stream task to be able to use it for predictions and inference.\n"
     ]
    },
    {
     "name": "stdout",
     "output_type": "stream",
     "text": [
      "BERT Model Loaded Successfully!\n"
     ]
    }
   ],
   "source": [
    "from transformers import TFBertForSequenceClassification\n",
    "\n",
    "# Ensure TensorFlow format is used\n",
    "bert_model = TFBertForSequenceClassification.from_pretrained(\n",
    "    \"bert-base-uncased\", \n",
    "    from_pt=False,  # Forces TensorFlow mode\n",
    "    num_labels=2\n",
    ")\n",
    "\n",
    "print(\"BERT Model Loaded Successfully!\")\n"
   ]
  },
  {
   "cell_type": "code",
   "execution_count": 26,
   "id": "6e98054c-d5c0-4d50-a313-b7b2056e1984",
   "metadata": {},
   "outputs": [],
   "source": [
    "import os\n",
    "os.environ[\"TF_USE_LEGACY_KERAS\"] = \"1\"  # Ensure Transformers uses Keras 2\n",
    "import tensorflow as tf\n"
   ]
  },
  {
   "cell_type": "code",
   "execution_count": 27,
   "id": "6373be21-7021-4d50-9320-7478c5182fe2",
   "metadata": {},
   "outputs": [
    {
     "name": "stderr",
     "output_type": "stream",
     "text": [
      "All PyTorch model weights were used when initializing TFBertForSequenceClassification.\n",
      "\n",
      "Some weights or buffers of the TF 2.0 model TFBertForSequenceClassification were not initialized from the PyTorch model and are newly initialized: ['classifier.weight', 'classifier.bias']\n",
      "You should probably TRAIN this model on a down-stream task to be able to use it for predictions and inference.\n"
     ]
    },
    {
     "name": "stdout",
     "output_type": "stream",
     "text": [
      "BERT Model Loaded Successfully with TensorFlow Weights!\n"
     ]
    }
   ],
   "source": [
    "from transformers import TFBertForSequenceClassification\n",
    "\n",
    "# Ensure TensorFlow format is used and avoid PyTorch weights\n",
    "bert_model = TFBertForSequenceClassification.from_pretrained(\n",
    "    \"bert-base-uncased\", \n",
    "    from_pt=False,  # Forces TensorFlow weights instead of PyTorch\n",
    "    num_labels=2\n",
    ")\n",
    "\n",
    "print(\"BERT Model Loaded Successfully with TensorFlow Weights!\")\n"
   ]
  },
  {
   "cell_type": "code",
   "execution_count": 28,
   "id": "9a45683a-5978-4cfa-8162-29cbdcfb07fd",
   "metadata": {},
   "outputs": [
    {
     "name": "stderr",
     "output_type": "stream",
     "text": [
      "All PyTorch model weights were used when initializing TFBertForSequenceClassification.\n",
      "\n",
      "Some weights or buffers of the TF 2.0 model TFBertForSequenceClassification were not initialized from the PyTorch model and are newly initialized: ['classifier.weight', 'classifier.bias']\n",
      "You should probably TRAIN this model on a down-stream task to be able to use it for predictions and inference.\n"
     ]
    },
    {
     "name": "stdout",
     "output_type": "stream",
     "text": [
      "BERT Model Loaded with Correct TensorFlow Weights!\n"
     ]
    }
   ],
   "source": [
    "from transformers import TFBertForSequenceClassification\n",
    "\n",
    "# Download TensorFlow weights only\n",
    "bert_model = TFBertForSequenceClassification.from_pretrained(\n",
    "    \"bert-base-uncased\",\n",
    "    from_pt=False,  # Ensures PyTorch weights are not loaded\n",
    "    num_labels=2,\n",
    "    ignore_mismatched_sizes=True  # Avoids warnings about weight mismatch\n",
    ")\n",
    "\n",
    "print(\"BERT Model Loaded with Correct TensorFlow Weights!\")\n"
   ]
  },
  {
   "cell_type": "code",
   "execution_count": 29,
   "id": "1596b81d-cbe2-4364-ac62-d9a3c6203970",
   "metadata": {},
   "outputs": [],
   "source": [
    "import os\n",
    "os.environ[\"TF_USE_LEGACY_KERAS\"] = \"1\"  # Make sure Transformers uses Keras 2\n",
    "import tensorflow as tf\n"
   ]
  },
  {
   "cell_type": "code",
   "execution_count": 30,
   "id": "046c3427-dede-4b5a-8266-84cea696a976",
   "metadata": {},
   "outputs": [
    {
     "name": "stdout",
     "output_type": "stream",
     "text": [
      "TF_USE_LEGACY_KERAS: 1\n"
     ]
    }
   ],
   "source": [
    "import os\n",
    "print(f\"TF_USE_LEGACY_KERAS: {os.environ.get('TF_USE_LEGACY_KERAS')}\")\n"
   ]
  },
  {
   "cell_type": "code",
   "execution_count": 31,
   "id": "ffd8c012-f73e-47ee-b6ae-acd087cc5804",
   "metadata": {},
   "outputs": [
    {
     "name": "stderr",
     "output_type": "stream",
     "text": [
      "WARNING:absl:At this time, the v2.11+ optimizer `tf.keras.optimizers.Adam` runs slowly on M1/M2 Macs, please use the legacy TF-Keras optimizer instead, located at `tf.keras.optimizers.legacy.Adam`.\n"
     ]
    },
    {
     "name": "stdout",
     "output_type": "stream",
     "text": [
      "BERT Model Compiled Successfully!\n"
     ]
    }
   ],
   "source": [
    "import tensorflow as tf\n",
    "from tensorflow.keras.optimizers import Adam\n",
    "from tensorflow.keras.losses import SparseCategoricalCrossentropy\n",
    "\n",
    "# Compile the model\n",
    "optimizer = Adam(learning_rate=2e-5)\n",
    "loss = SparseCategoricalCrossentropy(from_logits=True)\n",
    "metrics = [\"accuracy\"]\n",
    "\n",
    "bert_model.compile(optimizer=optimizer, loss=loss, metrics=metrics)\n",
    "print(\"BERT Model Compiled Successfully!\")\n"
   ]
  },
  {
   "cell_type": "code",
   "execution_count": 32,
   "id": "6e0929c6-f433-4dc3-9708-0704d392e9f2",
   "metadata": {},
   "outputs": [
    {
     "name": "stdout",
     "output_type": "stream",
     "text": [
      "Dataset Tokenized Successfully!\n"
     ]
    }
   ],
   "source": [
    "import pandas as pd\n",
    "from transformers import BertTokenizer\n",
    "\n",
    "# Load dataset from CSV\n",
    "file_path = \"final_ml_ready_dataset.csv\"  # Ensure this file exists in your working directory\n",
    "data = pd.read_csv(file_path)\n",
    "\n",
    "# Load Pre-trained BERT Tokenizer\n",
    "bert_tokenizer = BertTokenizer.from_pretrained(\"bert-base-uncased\")\n",
    "\n",
    "# Tokenize & Encode Dataset\n",
    "def encode_texts(texts, tokenizer, max_length=300):\n",
    "    return tokenizer(list(texts), padding=\"max_length\", truncation=True, max_length=max_length, return_tensors=\"tf\")\n",
    "\n",
    "# Encode the dataset\n",
    "X_encoded = encode_texts(data[\"text_cleaned\"], bert_tokenizer)\n",
    "\n",
    "# Convert TensorFlow tensors to NumPy arrays\n",
    "import numpy as np\n",
    "X_input_ids = np.array(X_encoded[\"input_ids\"])\n",
    "y = data[\"label\"].values  # Target variable\n",
    "\n",
    "print(\"Dataset Tokenized Successfully!\")\n"
   ]
  },
  {
   "cell_type": "code",
   "execution_count": 33,
   "id": "32e479ed-210a-458a-b358-64c84d851fb4",
   "metadata": {},
   "outputs": [
    {
     "name": "stdout",
     "output_type": "stream",
     "text": [
      "Train Shape: (35346, 300), Test Shape: (8837, 300)\n"
     ]
    }
   ],
   "source": [
    "from sklearn.model_selection import train_test_split\n",
    "\n",
    "# Split Dataset (80% Train, 20% Test)\n",
    "X_train_enc, X_test_enc, y_train_enc, y_test_enc = train_test_split(\n",
    "    X_input_ids, y, test_size=0.2, random_state=42\n",
    ")\n",
    "\n",
    "print(f\"Train Shape: {X_train_enc.shape}, Test Shape: {X_test_enc.shape}\")\n"
   ]
  },
  {
   "cell_type": "markdown",
   "id": "9e613609-4211-4127-b686-0dca913fd4a5",
   "metadata": {},
   "source": [
    "## Convert to TensorFlow Dataset"
   ]
  },
  {
   "cell_type": "code",
   "execution_count": 34,
   "id": "a38732cc-3817-4cb9-85f5-1615112621de",
   "metadata": {},
   "outputs": [
    {
     "name": "stdout",
     "output_type": "stream",
     "text": [
      "Train & Test Datasets Ready!\n"
     ]
    }
   ],
   "source": [
    "import tensorflow as tf\n",
    "\n",
    "# Convert to TensorFlow Dataset for Efficient Training\n",
    "train_dataset = tf.data.Dataset.from_tensor_slices((X_train_enc, y_train_enc)).batch(16)\n",
    "test_dataset = tf.data.Dataset.from_tensor_slices((X_test_enc, y_test_enc)).batch(16)\n",
    "\n",
    "print(\"Train & Test Datasets Ready!\")\n"
   ]
  },
  {
   "cell_type": "markdown",
   "id": "81637c1c-2306-4b79-9d4f-46442a49d480",
   "metadata": {},
   "source": [
    "# Train Your Model"
   ]
  },
  {
   "cell_type": "code",
   "execution_count": 35,
   "id": "347d53b9-1b44-4853-a927-d48ba224aa4b",
   "metadata": {},
   "outputs": [
    {
     "name": "stdout",
     "output_type": "stream",
     "text": [
      "Num GPUs Available: 1\n"
     ]
    }
   ],
   "source": [
    "import tensorflow as tf\n",
    "print(\"Num GPUs Available:\", len(tf.config.list_physical_devices('GPU')))\n"
   ]
  },
  {
   "cell_type": "code",
   "execution_count": 36,
   "id": "0bf4cba6-d4c3-4d42-a72a-33ae201ef9ff",
   "metadata": {},
   "outputs": [
    {
     "name": "stdout",
     "output_type": "stream",
     "text": [
      "Mixed Precision Disabled (macOS Fix)\n"
     ]
    }
   ],
   "source": [
    "import tensorflow as tf\n",
    "from tensorflow.keras import mixed_precision\n",
    "\n",
    "# Disable mixed precision (not supported on macOS Metal)\n",
    "mixed_precision.set_global_policy('float32')\n",
    "\n",
    "print(\"Mixed Precision Disabled (macOS Fix)\")\n"
   ]
  },
  {
   "cell_type": "code",
   "execution_count": 37,
   "id": "3107d137-7d05-4864-98e9-3bea3c326196",
   "metadata": {},
   "outputs": [
    {
     "name": "stdout",
     "output_type": "stream",
     "text": [
      "Epoch 1/3\n",
      "WARNING:tensorflow:AutoGraph could not transform <function infer_framework at 0x32c70ae80> and will run it as-is.\n",
      "Cause: for/else statement not yet supported\n",
      "To silence this warning, decorate the function with @tf.autograph.experimental.do_not_convert\n"
     ]
    },
    {
     "name": "stderr",
     "output_type": "stream",
     "text": [
      "WARNING:tensorflow:AutoGraph could not transform <function infer_framework at 0x32c70ae80> and will run it as-is.\n",
      "Cause: for/else statement not yet supported\n",
      "To silence this warning, decorate the function with @tf.autograph.experimental.do_not_convert\n"
     ]
    },
    {
     "name": "stdout",
     "output_type": "stream",
     "text": [
      "WARNING: AutoGraph could not transform <function infer_framework at 0x32c70ae80> and will run it as-is.\n",
      "Cause: for/else statement not yet supported\n",
      "To silence this warning, decorate the function with @tf.autograph.experimental.do_not_convert\n"
     ]
    },
    {
     "name": "stderr",
     "output_type": "stream",
     "text": [
      "2025-03-06 18:20:28.936853: I tensorflow/core/grappler/optimizers/custom_graph_optimizer_registry.cc:117] Plugin optimizer for device_type GPU is enabled.\n",
      "2025-03-06 18:20:30.064480: E tensorflow/core/grappler/optimizers/meta_optimizer.cc:961] PluggableGraphOptimizer failed: INVALID_ARGUMENT: Failed to deserialize the `graph_buf`.\n"
     ]
    },
    {
     "name": "stdout",
     "output_type": "stream",
     "text": [
      "2210/2210 [==============================] - ETA: 0s - loss: 0.0206 - accuracy: 0.9925      "
     ]
    },
    {
     "name": "stderr",
     "output_type": "stream",
     "text": [
      "2025-03-07 00:46:50.134700: E tensorflow/core/grappler/optimizers/meta_optimizer.cc:961] PluggableGraphOptimizer failed: INVALID_ARGUMENT: Failed to deserialize the `graph_buf`.\n"
     ]
    },
    {
     "name": "stdout",
     "output_type": "stream",
     "text": [
      "2210/2210 [==============================] - 24506s 11s/step - loss: 0.0206 - accuracy: 0.9925 - val_loss: 0.0079 - val_accuracy: 0.9983\n",
      "Epoch 2/3\n",
      "2210/2210 [==============================] - 25607s 12s/step - loss: 0.0034 - accuracy: 0.9993 - val_loss: 0.0025 - val_accuracy: 0.9994\n",
      "Epoch 3/3\n",
      "2210/2210 [==============================] - 48314s 22s/step - loss: 0.0027 - accuracy: 0.9992 - val_loss: 0.0016 - val_accuracy: 0.9994\n",
      "Model Training Completed!\n"
     ]
    }
   ],
   "source": [
    "    # Train the model with macOS-compatible settings\n",
    "    bert_model.fit(\n",
    "        train_dataset,\n",
    "        validation_data=test_dataset,\n",
    "        epochs=3\n",
    "    )\n",
    "    \n",
    "    print(\"Model Training Completed!\")\n"
   ]
  },
  {
   "cell_type": "code",
   "execution_count": 38,
   "id": "fe815445-9f3f-484c-b79f-1d4375947e24",
   "metadata": {},
   "outputs": [
    {
     "name": "stdout",
     "output_type": "stream",
     "text": [
      "Fine-Tuned BERT Model Saved Successfully!\n"
     ]
    }
   ],
   "source": [
    "# Save the fine-tuned model\n",
    "bert_model.save_pretrained(\"fine_tuned_bert\")\n",
    "\n",
    "print(\"Fine-Tuned BERT Model Saved Successfully!\")\n"
   ]
  },
  {
   "cell_type": "code",
   "execution_count": 39,
   "id": "f96f7850-abc2-4ab2-a2cb-af8881280edf",
   "metadata": {},
   "outputs": [
    {
     "name": "stderr",
     "output_type": "stream",
     "text": [
      "Some layers from the model checkpoint at fine_tuned_bert were not used when initializing TFBertForSequenceClassification: ['dropout_113']\n",
      "- This IS expected if you are initializing TFBertForSequenceClassification from the checkpoint of a model trained on another task or with another architecture (e.g. initializing a BertForSequenceClassification model from a BertForPreTraining model).\n",
      "- This IS NOT expected if you are initializing TFBertForSequenceClassification from the checkpoint of a model that you expect to be exactly identical (initializing a BertForSequenceClassification model from a BertForSequenceClassification model).\n",
      "All the layers of TFBertForSequenceClassification were initialized from the model checkpoint at fine_tuned_bert.\n",
      "If your task is similar to the task the model of the checkpoint was trained on, you can already use TFBertForSequenceClassification for predictions without further training.\n"
     ]
    },
    {
     "name": "stdout",
     "output_type": "stream",
     "text": [
      "Fine-Tuned Model Loaded for Inference!\n"
     ]
    }
   ],
   "source": [
    "from transformers import TFBertForSequenceClassification\n",
    "\n",
    "# Load the fine-tuned model\n",
    "bert_model = TFBertForSequenceClassification.from_pretrained(\"fine_tuned_bert\")\n",
    "\n",
    "print(\"Fine-Tuned Model Loaded for Inference!\")\n"
   ]
  },
  {
   "cell_type": "code",
   "execution_count": 40,
   "id": "22c72860-553a-4e04-be9d-1ec2df5f0074",
   "metadata": {},
   "outputs": [
    {
     "name": "stdout",
     "output_type": "stream",
     "text": [
      "Text: This is a great product! → Prediction: FAKE\n",
      "Text: This is a fake news article. → Prediction: FAKE\n"
     ]
    }
   ],
   "source": [
    "from transformers import BertTokenizer\n",
    "import numpy as np\n",
    "\n",
    "# Load the tokenizer\n",
    "bert_tokenizer = BertTokenizer.from_pretrained(\"bert-base-uncased\")\n",
    "\n",
    "# Sample text input\n",
    "text = [\"This is a great product!\", \"This is a fake news article.\"]\n",
    "\n",
    "# Tokenize text\n",
    "inputs = bert_tokenizer(text, padding=True, truncation=True, max_length=128, return_tensors=\"tf\")\n",
    "\n",
    "# Run inference\n",
    "outputs = bert_model(inputs[\"input_ids\"])\n",
    "predictions = np.argmax(outputs.logits, axis=1)\n",
    "\n",
    "# Print results\n",
    "for i, txt in enumerate(text):\n",
    "    label = \"REAL\" if predictions[i] == 1 else \"FAKE\"\n",
    "    print(f\"Text: {txt} → Prediction: {label}\")\n"
   ]
  },
  {
   "cell_type": "markdown",
   "id": "1fd6c4e7-d132-49b3-8a43-ce1d853bacd5",
   "metadata": {},
   "source": [
    "## Convert Model to TensorFlow Lite (For Fast Inference)"
   ]
  },
  {
   "cell_type": "code",
   "execution_count": 41,
   "id": "39d4e3d8-9a35-427c-82fb-702a32c5960d",
   "metadata": {},
   "outputs": [
    {
     "name": "stdout",
     "output_type": "stream",
     "text": [
      "INFO:tensorflow:Assets written to: /var/folders/xm/1yr2bv216f51vwy7g0kxtzyh0000gn/T/tmpwjsf5xss/assets\n"
     ]
    },
    {
     "name": "stderr",
     "output_type": "stream",
     "text": [
      "INFO:tensorflow:Assets written to: /var/folders/xm/1yr2bv216f51vwy7g0kxtzyh0000gn/T/tmpwjsf5xss/assets\n",
      "WARNING: All log messages before absl::InitializeLog() is called are written to STDERR\n",
      "W0000 00:00:1741384212.015467   22914 tf_tfl_flatbuffer_helpers.cc:390] Ignored output_format.\n",
      "W0000 00:00:1741384212.015778   22914 tf_tfl_flatbuffer_helpers.cc:393] Ignored drop_control_dependency.\n",
      "2025-03-07 21:50:12.018032: I tensorflow/cc/saved_model/reader.cc:83] Reading SavedModel from: /var/folders/xm/1yr2bv216f51vwy7g0kxtzyh0000gn/T/tmpwjsf5xss\n",
      "2025-03-07 21:50:12.033785: I tensorflow/cc/saved_model/reader.cc:51] Reading meta graph with tags { serve }\n",
      "2025-03-07 21:50:12.033796: I tensorflow/cc/saved_model/reader.cc:146] Reading SavedModel debug info (if present) from: /var/folders/xm/1yr2bv216f51vwy7g0kxtzyh0000gn/T/tmpwjsf5xss\n",
      "2025-03-07 21:50:12.145667: I tensorflow/compiler/mlir/mlir_graph_optimization_pass.cc:388] MLIR V1 optimization pass is not enabled\n",
      "2025-03-07 21:50:12.154099: I tensorflow/cc/saved_model/loader.cc:234] Restoring SavedModel bundle.\n",
      "2025-03-07 21:50:12.465367: I tensorflow/cc/saved_model/loader.cc:218] Running initialization op on SavedModel bundle at path: /var/folders/xm/1yr2bv216f51vwy7g0kxtzyh0000gn/T/tmpwjsf5xss\n",
      "2025-03-07 21:50:12.557688: I tensorflow/cc/saved_model/loader.cc:317] SavedModel load for tags { serve }; Status: success: OK. Took 539655 microseconds.\n",
      "2025-03-07 21:50:12.709159: I tensorflow/compiler/mlir/tensorflow/utils/dump_mlir_util.cc:268] disabling MLIR crash reproducer, set env var `MLIR_CRASH_REPRODUCER_DIRECTORY` to enable.\n"
     ]
    },
    {
     "name": "stdout",
     "output_type": "stream",
     "text": [
      "TensorFlow Lite Model Saved for Faster Inference!\n"
     ]
    }
   ],
   "source": [
    "import tensorflow as tf\n",
    "\n",
    "# Convert model to TensorFlow Lite format\n",
    "converter = tf.lite.TFLiteConverter.from_keras_model(bert_model)\n",
    "tflite_model = converter.convert()\n",
    "\n",
    "# Save the TensorFlow Lite model\n",
    "with open(\"bert_model.tflite\", \"wb\") as f:\n",
    "    f.write(tflite_model)\n",
    "\n",
    "print(\"TensorFlow Lite Model Saved for Faster Inference!\")\n"
   ]
  },
  {
   "cell_type": "markdown",
   "id": "7e63cc3b-cdb0-4da3-a4a6-8cb9c8d58a7e",
   "metadata": {},
   "source": [
    "## Predictions on Test Data"
   ]
  },
  {
   "cell_type": "code",
   "execution_count": 42,
   "id": "29bd7a9b-4eb7-4803-b788-1937b9a5fd68",
   "metadata": {},
   "outputs": [
    {
     "name": "stderr",
     "output_type": "stream",
     "text": [
      "2025-03-07 22:00:09.974620: E tensorflow/core/grappler/optimizers/meta_optimizer.cc:961] PluggableGraphOptimizer failed: INVALID_ARGUMENT: Failed to deserialize the `graph_buf`.\n"
     ]
    },
    {
     "name": "stdout",
     "output_type": "stream",
     "text": [
      "277/277 [==============================] - 266s 946ms/step\n",
      "Predictions Generated!\n"
     ]
    }
   ],
   "source": [
    "import numpy as np\n",
    "\n",
    "# Get model predictions\n",
    "y_pred_bert = np.argmax(bert_model.predict(X_test_enc).logits, axis=1)\n",
    "\n",
    "print(\"Predictions Generated!\")\n"
   ]
  },
  {
   "cell_type": "markdown",
   "id": "bccbbc5a-7597-4473-815c-1c395b1eeb32",
   "metadata": {},
   "source": [
    "## Calculate Model Accuracy"
   ]
  },
  {
   "cell_type": "code",
   "execution_count": 43,
   "id": "d8b46d0c-3086-436e-bb30-f0fbc16a96e2",
   "metadata": {},
   "outputs": [
    {
     "name": "stdout",
     "output_type": "stream",
     "text": [
      "BERT Model Accuracy: 0.9994\n"
     ]
    }
   ],
   "source": [
    "from sklearn.metrics import accuracy_score\n",
    "\n",
    "# Compute accuracy\n",
    "bert_accuracy = accuracy_score(y_test_enc, y_pred_bert)\n",
    "\n",
    "print(f\"BERT Model Accuracy: {bert_accuracy:.4f}\")\n"
   ]
  },
  {
   "cell_type": "markdown",
   "id": "40f15aea-4f27-4f99-884b-0daad8677254",
   "metadata": {},
   "source": [
    "## Generate Classification Report"
   ]
  },
  {
   "cell_type": "code",
   "execution_count": 44,
   "id": "d9a2b6fe-de8f-4443-883b-1c1ca9dd4019",
   "metadata": {},
   "outputs": [
    {
     "name": "stdout",
     "output_type": "stream",
     "text": [
      "Classification Report for BERT Model:\n",
      "\n",
      "              precision    recall  f1-score   support\n",
      "\n",
      "        Fake       1.00      1.00      1.00      4516\n",
      "        Real       1.00      1.00      1.00      4321\n",
      "\n",
      "    accuracy                           1.00      8837\n",
      "   macro avg       1.00      1.00      1.00      8837\n",
      "weighted avg       1.00      1.00      1.00      8837\n",
      "\n"
     ]
    }
   ],
   "source": [
    "from sklearn.metrics import classification_report\n",
    "\n",
    "# Get detailed classification metrics\n",
    "print(\"Classification Report for BERT Model:\\n\")\n",
    "print(classification_report(y_test_enc, y_pred_bert, target_names=[\"Fake\", \"Real\"]))\n"
   ]
  },
  {
   "cell_type": "markdown",
   "id": "b7148218-abef-4e2f-95c9-4a215ecae013",
   "metadata": {},
   "source": [
    "## Confusion Matrix"
   ]
  },
  {
   "cell_type": "code",
   "execution_count": 45,
   "id": "ea91264f-62e1-433a-9d09-cb1b5e4d3571",
   "metadata": {},
   "outputs": [
    {
     "name": "stdout",
     "output_type": "stream",
     "text": [
      "\n",
      "Confusion Matrix Saved as 'bert_confusion_matrix.png'\n"
     ]
    },
    {
     "data": {
      "image/png": "[encoded data removed]",
      "text/plain": [
       "<Figure size 500x400 with 2 Axes>"
      ]
     },
     "metadata": {},
     "output_type": "display_data"
    }
   ],
   "source": [
    "import seaborn as sns\n",
    "import matplotlib.pyplot as plt\n",
    "from sklearn.metrics import confusion_matrix\n",
    "\n",
    "# Generate confusion matrix\n",
    "conf_matrix = confusion_matrix(y_test_enc, y_pred_bert)\n",
    "\n",
    "# Plot confusion matrix\n",
    "plt.figure(figsize=(5, 4))\n",
    "sns.heatmap(conf_matrix, annot=True, fmt=\"d\", cmap=\"Blues\", xticklabels=[\"Fake\", \"Real\"], yticklabels=[\"Fake\", \"Real\"])\n",
    "plt.xlabel(\"Predicted\")\n",
    "plt.ylabel(\"Actual\")\n",
    "plt.title(\"Confusion Matrix - BERT Model\")\n",
    "\n",
    "# Save the plot\n",
    "plt.savefig(\"bert_confusion_matrix.png\")\n",
    "print(\"\\nConfusion Matrix Saved as 'bert_confusion_matrix.png'\")\n",
    "\n",
    "plt.show()\n"
   ]
  },
  {
   "cell_type": "markdown",
   "id": "80191213-9366-4a54-94a5-0862376b04c4",
   "metadata": {},
   "source": [
    "## Compare with Other Models"
   ]
  },
  {
   "cell_type": "code",
   "execution_count": 46,
   "id": "ebac1b02-1318-4fd2-b1bb-906adf87e3f1",
   "metadata": {},
   "outputs": [
    {
     "name": "stdout",
     "output_type": "stream",
     "text": [
      "Model Performance Comparison:\n",
      "BERT Model Accuracy: 0.9994\n",
      "Other Model Accuracy (e.g., Logistic Regression, SVM, etc.): [Add Here]\n"
     ]
    }
   ],
   "source": [
    "# Compare accuracy\n",
    "print(f\"Model Performance Comparison:\")\n",
    "print(f\"BERT Model Accuracy: {bert_accuracy:.4f}\")\n",
    "print(f\"Other Model Accuracy (e.g., Logistic Regression, SVM, etc.): [Add Here]\")\n"
   ]
  },
  {
   "cell_type": "markdown",
   "id": "44fc9431-e05c-4e11-8c0e-585683310394",
   "metadata": {},
   "source": [
    "## Compare Model Accuracies"
   ]
  },
  {
   "cell_type": "code",
   "execution_count": 48,
   "id": "ccb53df8-bf1e-406e-808d-efacd73dab30",
   "metadata": {},
   "outputs": [
    {
     "name": "stdout",
     "output_type": "stream",
     "text": [
      "Model Performance Comparison:\n",
      "\n",
      "BERT Accuracy: 0.9994\n",
      "XGBoost Accuracy: 0.9766\n",
      "SVM Accuracy: 0.9644\n",
      "Logistic Regression Accuracy: 0.9593\n",
      "LSTM Accuracy: 0.9590\n",
      "Random Forest Accuracy: 0.9527\n",
      "\n",
      "Best Performing Model: BERT with Accuracy: 0.9994\n"
     ]
    }
   ],
   "source": [
    "# Store actual accuracy values\n",
    "model_accuracies = {\n",
    "    \"BERT\": 0.9994,\n",
    "    \"XGBoost\": 0.9766,\n",
    "    \"SVM\": 0.9644,\n",
    "    \"Logistic Regression\": 0.9593,\n",
    "    \"LSTM\": 0.9590,\n",
    "    \"Random Forest\": 0.9527\n",
    "}\n",
    "\n",
    "# Print Model Performance Comparison\n",
    "print(\"Model Performance Comparison:\\n\")\n",
    "for model, acc in model_accuracies.items():\n",
    "    print(f\"{model} Accuracy: {acc:.4f}\")\n",
    "\n",
    "# Identify Best Model\n",
    "best_model = max(model_accuracies, key=model_accuracies.get)\n",
    "best_accuracy = model_accuracies[best_model]\n",
    "\n",
    "print(f\"\\nBest Performing Model: {best_model} with Accuracy: {best_accuracy:.4f}\")\n"
   ]
  },
  {
   "cell_type": "markdown",
   "id": "dac78122-9846-4c30-acbf-8aada43b3b0b",
   "metadata": {},
   "source": [
    "## Cross-Validation "
   ]
  },
  {
   "cell_type": "markdown",
   "id": "2f2ebe92-5175-43e7-b446-ddfb1d8f9b6b",
   "metadata": {},
   "source": [
    "To ensure our model is robust, perform k-fold Cross-Validation (k=5 or 10) for BERT, XGBoost, and SVM:"
   ]
  },
  {
   "cell_type": "code",
   "execution_count": 50,
   "id": "ddafc361-d5ad-4584-8bc1-0f12c7eb9fe7",
   "metadata": {},
   "outputs": [
    {
     "name": "stdout",
     "output_type": "stream",
     "text": [
      "Dataset Loaded Successfully!\n",
      "                                                text       subject  label  \\\n",
      "0  WASHINGTON (Reuters) - The head of a conservat...  politicsNews      1   \n",
      "1  WASHINGTON (Reuters) - Transgender people will...  politicsNews      1   \n",
      "2  WASHINGTON (Reuters) - The special counsel inv...  politicsNews      1   \n",
      "3  WASHINGTON (Reuters) - Trump campaign adviser ...  politicsNews      1   \n",
      "4  SEATTLE/WASHINGTON (Reuters) - President Donal...  politicsNews      1   \n",
      "\n",
      "   word_count                                       text_cleaned  \\\n",
      "0         749  washington reuters the head of a conservative ...   \n",
      "1         624  washington reuters transgender people will be ...   \n",
      "2         457  washington reuters the special counsel investi...   \n",
      "3         376  washington reuters trump campaign adviser geor...   \n",
      "4         852  seattlewashington reuters president donald tru...   \n",
      "\n",
      "                                     text_lemmatized  gunning_fog  sentiment  \n",
      "0  washington reuters head conservative republica...       168.59     0.9861  \n",
      "1  washington reuters transgender people allow ti...       146.51     0.9287  \n",
      "2  washington reuters special counsel investigati...       100.41     0.1280  \n",
      "3  washington reuters trump campaign adviser geor...        90.28     0.7850  \n",
      "4  seattlewashington reuters president donald tru...       186.27     0.9601  \n"
     ]
    }
   ],
   "source": [
    "import pandas as pd\n",
    "\n",
    "# Load dataset (update the file path if needed)\n",
    "file_path = \"final_ml_ready_dataset.csv\"  # Ensure this is the correct file\n",
    "data = pd.read_csv(file_path)\n",
    "\n",
    "# Check if dataset loaded correctly\n",
    "print(\"Dataset Loaded Successfully!\")\n",
    "print(data.head())  # Check the first few rows\n"
   ]
  },
  {
   "cell_type": "code",
   "execution_count": 51,
   "id": "14348ea2-e8f6-47dc-a2b8-6e1f84da169a",
   "metadata": {},
   "outputs": [
    {
     "name": "stdout",
     "output_type": "stream",
     "text": [
      "Index(['text', 'subject', 'label', 'word_count', 'text_cleaned',\n",
      "       'text_lemmatized', 'gunning_fog', 'sentiment'],\n",
      "      dtype='object')\n"
     ]
    }
   ],
   "source": [
    "print(data.columns)\n"
   ]
  },
  {
   "cell_type": "markdown",
   "id": "7f87850f-d678-4dba-a2fc-f05318ea79d3",
   "metadata": {},
   "source": [
    "## BERT Cross-Validation"
   ]
  },
  {
   "cell_type": "code",
   "execution_count": 1,
   "id": "74abbc29-9de1-4f76-82a9-4f25d3b7cd97",
   "metadata": {},
   "outputs": [],
   "source": [
    "import numpy as np\n",
    "import tensorflow as tf\n",
    "import pandas as pd\n",
    "import seaborn as sns\n",
    "import matplotlib.pyplot as plt\n",
    "from transformers import BertTokenizer, TFBertForSequenceClassification\n",
    "from sklearn.metrics import accuracy_score, classification_report, confusion_matrix\n"
   ]
  },
  {
   "cell_type": "code",
   "execution_count": 2,
   "id": "e64ee968-7220-479d-b6f9-4bf00ba003c5",
   "metadata": {},
   "outputs": [
    {
     "name": "stdout",
     "output_type": "stream",
     "text": [
      "Dataset Loaded Successfully!\n",
      "                                                text       subject  label  \\\n",
      "0  WASHINGTON (Reuters) - The head of a conservat...  politicsNews      1   \n",
      "1  WASHINGTON (Reuters) - Transgender people will...  politicsNews      1   \n",
      "2  WASHINGTON (Reuters) - The special counsel inv...  politicsNews      1   \n",
      "3  WASHINGTON (Reuters) - Trump campaign adviser ...  politicsNews      1   \n",
      "4  SEATTLE/WASHINGTON (Reuters) - President Donal...  politicsNews      1   \n",
      "\n",
      "   word_count                                       text_cleaned  \\\n",
      "0         749  washington reuters the head of a conservative ...   \n",
      "1         624  washington reuters transgender people will be ...   \n",
      "2         457  washington reuters the special counsel investi...   \n",
      "3         376  washington reuters trump campaign adviser geor...   \n",
      "4         852  seattlewashington reuters president donald tru...   \n",
      "\n",
      "                                     text_lemmatized  gunning_fog  sentiment  \n",
      "0  washington reuters head conservative republica...       168.59     0.9861  \n",
      "1  washington reuters transgender people allow ti...       146.51     0.9287  \n",
      "2  washington reuters special counsel investigati...       100.41     0.1280  \n",
      "3  washington reuters trump campaign adviser geor...        90.28     0.7850  \n",
      "4  seattlewashington reuters president donald tru...       186.27     0.9601  \n"
     ]
    }
   ],
   "source": [
    "# Load dataset\n",
    "file_path = \"final_ml_ready_dataset.csv\"  # Ensure the correct file\n",
    "data = pd.read_csv(file_path)\n",
    "\n",
    "# Check if dataset loaded correctly\n",
    "print(\"Dataset Loaded Successfully!\")\n",
    "print(data.head())  # Preview first few rows\n"
   ]
  },
  {
   "cell_type": "markdown",
   "id": "a4f94292-64e9-48fa-a3ad-5b3afdfae659",
   "metadata": {},
   "source": [
    "## Fine-Tuned BERT Model"
   ]
  },
  {
   "cell_type": "code",
   "execution_count": 3,
   "id": "e593cf99-143d-4833-9cfb-c27a37b4e609",
   "metadata": {},
   "outputs": [
    {
     "name": "stderr",
     "output_type": "stream",
     "text": [
      "2025-03-09 09:47:21.028983: I metal_plugin/src/device/metal_device.cc:1154] Metal device set to: Apple M3 Pro\n",
      "2025-03-09 09:47:21.029028: I metal_plugin/src/device/metal_device.cc:296] systemMemory: 18.00 GB\n",
      "2025-03-09 09:47:21.029038: I metal_plugin/src/device/metal_device.cc:313] maxCacheSize: 6.00 GB\n",
      "2025-03-09 09:47:21.029080: I tensorflow/core/common_runtime/pluggable_device/pluggable_device_factory.cc:305] Could not identify NUMA node of platform GPU ID 0, defaulting to 0. Your kernel may not have been built with NUMA support.\n",
      "2025-03-09 09:47:21.029108: I tensorflow/core/common_runtime/pluggable_device/pluggable_device_factory.cc:271] Created TensorFlow device (/job:localhost/replica:0/task:0/device:GPU:0 with 0 MB memory) -> physical PluggableDevice (device: 0, name: METAL, pci bus id: <undefined>)\n",
      "Some layers from the model checkpoint at fine_tuned_bert were not used when initializing TFBertForSequenceClassification: ['dropout_113']\n",
      "- This IS expected if you are initializing TFBertForSequenceClassification from the checkpoint of a model trained on another task or with another architecture (e.g. initializing a BertForSequenceClassification model from a BertForPreTraining model).\n",
      "- This IS NOT expected if you are initializing TFBertForSequenceClassification from the checkpoint of a model that you expect to be exactly identical (initializing a BertForSequenceClassification model from a BertForSequenceClassification model).\n",
      "All the layers of TFBertForSequenceClassification were initialized from the model checkpoint at fine_tuned_bert.\n",
      "If your task is similar to the task the model of the checkpoint was trained on, you can already use TFBertForSequenceClassification for predictions without further training.\n"
     ]
    },
    {
     "name": "stdout",
     "output_type": "stream",
     "text": [
      "Fine-Tuned BERT Model Loaded Successfully!\n"
     ]
    }
   ],
   "source": [
    "# Load the fine-tuned BERT model\n",
    "bert_model = TFBertForSequenceClassification.from_pretrained(\"fine_tuned_bert\")\n",
    "\n",
    "# Load the tokenizer\n",
    "tokenizer = BertTokenizer.from_pretrained(\"bert-base-uncased\")\n",
    "\n",
    "print(\"Fine-Tuned BERT Model Loaded Successfully!\")\n"
   ]
  },
  {
   "cell_type": "markdown",
   "id": "09c1abf3-608a-4b57-a756-b5eed5bf7965",
   "metadata": {},
   "source": [
    "## Tokenize Data Again"
   ]
  },
  {
   "cell_type": "code",
   "execution_count": 4,
   "id": "979135ec-fb6c-4442-b570-bd82e66a64de",
   "metadata": {},
   "outputs": [
    {
     "name": "stdout",
     "output_type": "stream",
     "text": [
      "Text Tokenization Completed!\n"
     ]
    }
   ],
   "source": [
    "# Convert text data into BERT-compatible input format\n",
    "X = data[\"text\"].tolist()  # Convert text column into a list\n",
    "y = np.array(data[\"label\"])  # Convert labels into a NumPy array\n",
    "\n",
    "# Tokenize the dataset again\n",
    "X_test_enc = tokenizer(X, padding=True, truncation=True, max_length=512, return_tensors=\"tf\")\n",
    "\n",
    "print(\"Text Tokenization Completed!\")\n"
   ]
  },
  {
   "cell_type": "markdown",
   "id": "9208adf6-2e1a-4bd2-99c4-bf71620a5757",
   "metadata": {},
   "source": [
    "## Predictions Without Retraining"
   ]
  },
  {
   "cell_type": "code",
   "execution_count": 6,
   "id": "6f877992-2a3c-4e4b-a1d8-80a4c5e5a2ff",
   "metadata": {},
   "outputs": [
    {
     "name": "stderr",
     "output_type": "stream",
     "text": [
      "Some layers from the model checkpoint at fine_tuned_bert were not used when initializing TFBertForSequenceClassification: ['dropout_113']\n",
      "- This IS expected if you are initializing TFBertForSequenceClassification from the checkpoint of a model trained on another task or with another architecture (e.g. initializing a BertForSequenceClassification model from a BertForPreTraining model).\n",
      "- This IS NOT expected if you are initializing TFBertForSequenceClassification from the checkpoint of a model that you expect to be exactly identical (initializing a BertForSequenceClassification model from a BertForSequenceClassification model).\n",
      "All the layers of TFBertForSequenceClassification were initialized from the model checkpoint at fine_tuned_bert.\n",
      "If your task is similar to the task the model of the checkpoint was trained on, you can already use TFBertForSequenceClassification for predictions without further training.\n"
     ]
    },
    {
     "name": "stdout",
     "output_type": "stream",
     "text": [
      "Processing 44183 samples in batches of 256...\n",
      "Processed 256/44183 samples...\n",
      "Processed 512/44183 samples...\n",
      "Processed 768/44183 samples...\n",
      "Processed 1024/44183 samples...\n",
      "Processed 1280/44183 samples...\n",
      "Processed 1536/44183 samples...\n",
      "Processed 1792/44183 samples...\n",
      "Processed 2048/44183 samples...\n",
      "Processed 2304/44183 samples...\n",
      "Processed 2560/44183 samples...\n",
      "Processed 2816/44183 samples...\n",
      "Processed 3072/44183 samples...\n",
      "Processed 3328/44183 samples...\n",
      "Processed 3584/44183 samples...\n",
      "Processed 3840/44183 samples...\n",
      "Processed 4096/44183 samples...\n",
      "Processed 4352/44183 samples...\n",
      "Processed 4608/44183 samples...\n",
      "Processed 4864/44183 samples...\n",
      "Processed 5120/44183 samples...\n",
      "Processed 5376/44183 samples...\n",
      "Processed 5632/44183 samples...\n",
      "Processed 5888/44183 samples...\n",
      "Processed 6144/44183 samples...\n",
      "Processed 6400/44183 samples...\n",
      "Processed 6656/44183 samples...\n",
      "Processed 6912/44183 samples...\n",
      "Processed 7168/44183 samples...\n",
      "Processed 7424/44183 samples...\n",
      "Processed 7680/44183 samples...\n",
      "Processed 7936/44183 samples...\n",
      "Processed 8192/44183 samples...\n",
      "Processed 8448/44183 samples...\n",
      "Processed 8704/44183 samples...\n",
      "Processed 8960/44183 samples...\n",
      "Processed 9216/44183 samples...\n",
      "Processed 9472/44183 samples...\n",
      "Processed 9728/44183 samples...\n",
      "Processed 9984/44183 samples...\n",
      "Processed 10240/44183 samples...\n",
      "Processed 10496/44183 samples...\n",
      "Processed 10752/44183 samples...\n",
      "Processed 11008/44183 samples...\n",
      "Processed 11264/44183 samples...\n",
      "Processed 11520/44183 samples...\n",
      "Processed 11776/44183 samples...\n",
      "Processed 12032/44183 samples...\n",
      "Processed 12288/44183 samples...\n",
      "Processed 12544/44183 samples...\n",
      "Processed 12800/44183 samples...\n",
      "Processed 13056/44183 samples...\n",
      "Processed 13312/44183 samples...\n",
      "Processed 13568/44183 samples...\n",
      "Processed 13824/44183 samples...\n",
      "Processed 14080/44183 samples...\n",
      "Processed 14336/44183 samples...\n",
      "Processed 14592/44183 samples...\n",
      "Processed 14848/44183 samples...\n",
      "Processed 15104/44183 samples...\n",
      "Processed 15360/44183 samples...\n",
      "Processed 15616/44183 samples...\n",
      "Processed 15872/44183 samples...\n",
      "Processed 16128/44183 samples...\n",
      "Processed 16384/44183 samples...\n",
      "Processed 16640/44183 samples...\n",
      "Processed 16896/44183 samples...\n",
      "Processed 17152/44183 samples...\n",
      "Processed 17408/44183 samples...\n",
      "Processed 17664/44183 samples...\n",
      "Processed 17920/44183 samples...\n",
      "Processed 18176/44183 samples...\n",
      "Processed 18432/44183 samples...\n",
      "Processed 18688/44183 samples...\n",
      "Processed 18944/44183 samples...\n",
      "Processed 19200/44183 samples...\n",
      "Processed 19456/44183 samples...\n",
      "Processed 19712/44183 samples...\n",
      "Processed 19968/44183 samples...\n",
      "Processed 20224/44183 samples...\n",
      "Processed 20480/44183 samples...\n",
      "Processed 20736/44183 samples...\n",
      "Processed 20992/44183 samples...\n",
      "Processed 21248/44183 samples...\n",
      "Processed 21504/44183 samples...\n",
      "Processed 21760/44183 samples...\n",
      "Processed 22016/44183 samples...\n",
      "Processed 22272/44183 samples...\n",
      "Processed 22528/44183 samples...\n",
      "Processed 22784/44183 samples...\n",
      "Processed 23040/44183 samples...\n",
      "Processed 23296/44183 samples...\n",
      "Processed 23552/44183 samples...\n",
      "Processed 23808/44183 samples...\n",
      "Processed 24064/44183 samples...\n",
      "Processed 24320/44183 samples...\n",
      "Processed 24576/44183 samples...\n",
      "Processed 24832/44183 samples...\n",
      "Processed 25088/44183 samples...\n",
      "Processed 25344/44183 samples...\n",
      "Processed 25600/44183 samples...\n",
      "Processed 25856/44183 samples...\n",
      "Processed 26112/44183 samples...\n",
      "Processed 26368/44183 samples...\n",
      "Processed 26624/44183 samples...\n",
      "Processed 26880/44183 samples...\n",
      "Processed 27136/44183 samples...\n",
      "Processed 27392/44183 samples...\n",
      "Processed 27648/44183 samples...\n",
      "Processed 27904/44183 samples...\n",
      "Processed 28160/44183 samples...\n",
      "Processed 28416/44183 samples...\n",
      "Processed 28672/44183 samples...\n",
      "Processed 28928/44183 samples...\n",
      "Processed 29184/44183 samples...\n",
      "Processed 29440/44183 samples...\n",
      "Processed 29696/44183 samples...\n",
      "Processed 29952/44183 samples...\n",
      "Processed 30208/44183 samples...\n",
      "Processed 30464/44183 samples...\n",
      "Processed 30720/44183 samples...\n",
      "Processed 30976/44183 samples...\n",
      "Processed 31232/44183 samples...\n",
      "Processed 31488/44183 samples...\n",
      "Processed 31744/44183 samples...\n",
      "Processed 32000/44183 samples...\n",
      "Processed 32256/44183 samples...\n",
      "Processed 32512/44183 samples...\n",
      "Processed 32768/44183 samples...\n",
      "Processed 33024/44183 samples...\n",
      "Processed 33280/44183 samples...\n",
      "Processed 33536/44183 samples...\n",
      "Processed 33792/44183 samples...\n",
      "Processed 34048/44183 samples...\n",
      "Processed 34304/44183 samples...\n",
      "Processed 34560/44183 samples...\n",
      "Processed 34816/44183 samples...\n",
      "Processed 35072/44183 samples...\n",
      "Processed 35328/44183 samples...\n",
      "Processed 35584/44183 samples...\n",
      "Processed 35840/44183 samples...\n",
      "Processed 36096/44183 samples...\n",
      "Processed 36352/44183 samples...\n",
      "Processed 36608/44183 samples...\n",
      "Processed 36864/44183 samples...\n",
      "Processed 37120/44183 samples...\n",
      "Processed 37376/44183 samples...\n",
      "Processed 37632/44183 samples...\n",
      "Processed 37888/44183 samples...\n",
      "Processed 38144/44183 samples...\n",
      "Processed 38400/44183 samples...\n",
      "Processed 38656/44183 samples...\n",
      "Processed 38912/44183 samples...\n",
      "Processed 39168/44183 samples...\n",
      "Processed 39424/44183 samples...\n",
      "Processed 39680/44183 samples...\n",
      "Processed 39936/44183 samples...\n",
      "Processed 40192/44183 samples...\n",
      "Processed 40448/44183 samples...\n",
      "Processed 40704/44183 samples...\n",
      "Processed 40960/44183 samples...\n",
      "Processed 41216/44183 samples...\n",
      "Processed 41472/44183 samples...\n",
      "Processed 41728/44183 samples...\n",
      "Processed 41984/44183 samples...\n",
      "Processed 42240/44183 samples...\n",
      "Processed 42496/44183 samples...\n",
      "Processed 42752/44183 samples...\n",
      "Processed 43008/44183 samples...\n",
      "Processed 43264/44183 samples...\n",
      "Processed 43520/44183 samples...\n",
      "Processed 43776/44183 samples...\n",
      "Processed 44032/44183 samples...\n",
      "Processed 44183/44183 samples...\n",
      "Predictions Generated Successfully!\n"
     ]
    }
   ],
   "source": [
    "import numpy as np\n",
    "import tensorflow as tf\n",
    "from transformers import BertTokenizer\n",
    "\n",
    "# Load the fine-tuned BERT model\n",
    "bert_model = TFBertForSequenceClassification.from_pretrained(\"fine_tuned_bert\")\n",
    "\n",
    "# Load the tokenizer\n",
    "tokenizer = BertTokenizer.from_pretrained(\"bert-base-uncased\")\n",
    "\n",
    "# Define batch size\n",
    "BATCH_SIZE = 256  # Adjust based on available memory\n",
    "num_samples = len(data)  # Total number of samples\n",
    "predictions = []\n",
    "\n",
    "print(f\"Processing {num_samples} samples in batches of {BATCH_SIZE}...\")\n",
    "\n",
    "# Run inference in batches\n",
    "for i in range(0, num_samples, BATCH_SIZE):\n",
    "    batch_texts = data[\"text\"].iloc[i : i + BATCH_SIZE].tolist()  # Get batch\n",
    "    batch_encodings = tokenizer(batch_texts, padding=True, truncation=True, max_length=512, return_tensors=\"tf\")\n",
    "    \n",
    "    # Run model prediction\n",
    "    batch_outputs = bert_model(batch_encodings[\"input_ids\"])\n",
    "    batch_predictions = np.argmax(batch_outputs.logits, axis=1)\n",
    "\n",
    "    predictions.extend(batch_predictions)  # Store batch results\n",
    "    print(f\"Processed {min(i + BATCH_SIZE, num_samples)}/{num_samples} samples...\")\n",
    "\n",
    "# Convert predictions to numpy array\n",
    "y_pred_bert = np.array(predictions)\n",
    "\n",
    "print(\"Predictions Generated Successfully!\")\n"
   ]
  },
  {
   "cell_type": "markdown",
   "id": "031e9a82-e6ae-4bf1-9629-5235c3f56f8c",
   "metadata": {},
   "source": [
    "## Compute BERT Model Accuracy"
   ]
  },
  {
   "cell_type": "code",
   "execution_count": 7,
   "id": "d20ad62f-6217-4f4d-99f5-166cc0fef6df",
   "metadata": {},
   "outputs": [
    {
     "name": "stdout",
     "output_type": "stream",
     "text": [
      "BERT Model Accuracy: 0.9980\n"
     ]
    }
   ],
   "source": [
    "from sklearn.metrics import accuracy_score\n",
    "\n",
    "# Compute accuracy\n",
    "bert_accuracy = accuracy_score(y, y_pred_bert)\n",
    "print(f\"BERT Model Accuracy: {bert_accuracy:.4f}\")\n"
   ]
  },
  {
   "cell_type": "markdown",
   "id": "f26a43c7-35fe-4559-83f0-1d1208d0be0b",
   "metadata": {},
   "source": [
    "## Classification Report"
   ]
  },
  {
   "cell_type": "code",
   "execution_count": 13,
   "id": "b2f3bbd9-f31b-4eff-af13-fa58cb3b41ec",
   "metadata": {},
   "outputs": [
    {
     "name": "stdout",
     "output_type": "stream",
     "text": [
      "Classification Report for BERT Model:\n",
      "\n",
      "              precision    recall  f1-score   support\n",
      "\n",
      "        Fake       1.00      1.00      1.00     22767\n",
      "        Real       1.00      1.00      1.00     21416\n",
      "\n",
      "    accuracy                           1.00     44183\n",
      "   macro avg       1.00      1.00      1.00     44183\n",
      "weighted avg       1.00      1.00      1.00     44183\n",
      "\n"
     ]
    }
   ],
   "source": [
    "from sklearn.metrics import classification_report\n",
    "\n",
    "# Get detailed classification metrics\n",
    "print(\"Classification Report for BERT Model:\\n\")\n",
    "print(classification_report(y, y_pred_bert, target_names=[\"Fake\", \"Real\"]))\n"
   ]
  },
  {
   "cell_type": "markdown",
   "id": "ad79a380-d223-481e-8d51-4e10674775e8",
   "metadata": {},
   "source": [
    "## Confusion Matrix"
   ]
  },
  {
   "cell_type": "code",
   "execution_count": 16,
   "id": "6be1cff6-2add-4f3f-986e-628838e8de41",
   "metadata": {},
   "outputs": [
    {
     "name": "stdout",
     "output_type": "stream",
     "text": [
      " Test Data Reloaded: Test Size = 8837\n"
     ]
    }
   ],
   "source": [
    "import numpy as np\n",
    "import pandas as pd\n",
    "from transformers import BertTokenizer\n",
    "\n",
    "# Load dataset again (if not already loaded)\n",
    "file_path = \"final_ml_ready_dataset.csv\"\n",
    "data = pd.read_csv(file_path)\n",
    "\n",
    "# Load the tokenizer\n",
    "bert_tokenizer = BertTokenizer.from_pretrained(\"bert-base-uncased\")\n",
    "\n",
    "# Re-encode text (ensure same max_length used during training)\n",
    "def encode_texts(texts, tokenizer, max_length=128):\n",
    "    return tokenizer(list(texts), padding=\"max_length\", truncation=True, max_length=max_length, return_tensors=\"tf\")\n",
    "\n",
    "# Encode dataset\n",
    "X_encoded = encode_texts(data[\"text_cleaned\"], bert_tokenizer)\n",
    "\n",
    "# Convert to NumPy\n",
    "X_input_ids = np.array(X_encoded[\"input_ids\"])\n",
    "y_labels = data[\"label\"].values  # Get labels\n",
    "\n",
    "# Split dataset again (to recreate `y_test_enc`)\n",
    "from sklearn.model_selection import train_test_split\n",
    "\n",
    "X_train_enc, X_test_enc, y_train_enc, y_test_enc = train_test_split(\n",
    "    X_input_ids, y_labels, test_size=0.2, random_state=42\n",
    ")\n",
    "\n",
    "print(f\" Test Data Reloaded: Test Size = {len(y_test_enc)}\")\n"
   ]
  },
  {
   "cell_type": "markdown",
   "id": "8a7f3ec2-c60b-4c78-bbca-32e367ec7a0f",
   "metadata": {},
   "source": [
    "## Predictions from BERT"
   ]
  },
  {
   "cell_type": "code",
   "execution_count": 17,
   "id": "2ae24970-9ebb-45df-8535-1398279c76eb",
   "metadata": {},
   "outputs": [
    {
     "name": "stderr",
     "output_type": "stream",
     "text": [
      "2025-03-11 20:22:50.915778: I tensorflow/core/grappler/optimizers/custom_graph_optimizer_registry.cc:117] Plugin optimizer for device_type GPU is enabled.\n",
      "2025-03-11 20:22:51.002369: E tensorflow/core/grappler/optimizers/meta_optimizer.cc:961] PluggableGraphOptimizer failed: INVALID_ARGUMENT: Failed to deserialize the `graph_buf`.\n"
     ]
    },
    {
     "name": "stdout",
     "output_type": "stream",
     "text": [
      "277/277 [==============================] - 187s 656ms/step\n",
      "Predictions Generated!\n"
     ]
    }
   ],
   "source": [
    "import numpy as np\n",
    "\n",
    "# Get predictions from the trained BERT model\n",
    "y_pred_bert = np.argmax(bert_model.predict(X_test_enc).logits, axis=1)\n",
    "\n",
    "print(\"Predictions Generated!\")\n"
   ]
  },
  {
   "cell_type": "markdown",
   "id": "c784f39f-03d7-4c50-b08e-b7ac7f039da7",
   "metadata": {},
   "source": [
    "## Compute Model Accuracy"
   ]
  },
  {
   "cell_type": "code",
   "execution_count": 18,
   "id": "462b2e32-e0e2-4d76-b953-00c9c1e50698",
   "metadata": {},
   "outputs": [
    {
     "name": "stdout",
     "output_type": "stream",
     "text": [
      " BERT Model Accuracy: 0.9955\n"
     ]
    }
   ],
   "source": [
    "from sklearn.metrics import accuracy_score\n",
    "\n",
    "# Compute accuracy\n",
    "bert_accuracy = accuracy_score(y_test_enc, y_pred_bert)\n",
    "\n",
    "print(f\" BERT Model Accuracy: {bert_accuracy:.4f}\")\n"
   ]
  },
  {
   "cell_type": "markdown",
   "id": "4588ef14-19ef-4fc6-99ea-b6a7e98b2727",
   "metadata": {},
   "source": [
    "## Generate Classification Report"
   ]
  },
  {
   "cell_type": "code",
   "execution_count": 19,
   "id": "31fee957-a4cd-4d36-877d-ce16427a79a0",
   "metadata": {},
   "outputs": [
    {
     "name": "stdout",
     "output_type": "stream",
     "text": [
      " Classification Report for BERT Model:\n",
      "\n",
      "              precision    recall  f1-score   support\n",
      "\n",
      "        Fake       1.00      0.99      1.00      4516\n",
      "        Real       0.99      1.00      1.00      4321\n",
      "\n",
      "    accuracy                           1.00      8837\n",
      "   macro avg       1.00      1.00      1.00      8837\n",
      "weighted avg       1.00      1.00      1.00      8837\n",
      "\n"
     ]
    }
   ],
   "source": [
    "from sklearn.metrics import classification_report\n",
    "\n",
    "# Get detailed classification metrics\n",
    "print(\" Classification Report for BERT Model:\\n\")\n",
    "print(classification_report(y_test_enc, y_pred_bert, target_names=[\"Fake\", \"Real\"]))\n"
   ]
  },
  {
   "cell_type": "markdown",
   "id": "c0bc502a-fcf2-4ec7-b79e-d425b0957a3d",
   "metadata": {},
   "source": [
    "## Plot Confusion Matrix"
   ]
  },
  {
   "cell_type": "code",
   "execution_count": 20,
   "id": "f9693a8d-a772-47ce-a6a6-b1f5e5fb01c5",
   "metadata": {},
   "outputs": [
    {
     "name": "stdout",
     "output_type": "stream",
     "text": [
      "\n",
      "Confusion Matrix Saved as 'bert_confusion_matrix.png'\n"
     ]
    },
    {
     "data": {
      "image/png": "[encoded data removed]",
      "text/plain": [
       "<Figure size 500x400 with 2 Axes>"
      ]
     },
     "metadata": {},
     "output_type": "display_data"
    }
   ],
   "source": [
    "import seaborn as sns\n",
    "import matplotlib.pyplot as plt\n",
    "from sklearn.metrics import confusion_matrix\n",
    "\n",
    "# Generate confusion matrix\n",
    "conf_matrix = confusion_matrix(y_test_enc, y_pred_bert)\n",
    "\n",
    "# Plot confusion matrix\n",
    "plt.figure(figsize=(5, 4))\n",
    "sns.heatmap(conf_matrix, annot=True, fmt=\"d\", cmap=\"Blues\", xticklabels=[\"Fake\", \"Real\"], yticklabels=[\"Fake\", \"Real\"])\n",
    "plt.xlabel(\"Predicted\")\n",
    "plt.ylabel(\"Actual\")\n",
    "plt.title(\" Confusion Matrix - BERT Model\")\n",
    "\n",
    "# Save the plot\n",
    "plt.savefig(\"bert_confusion_matrix.png\")\n",
    "print(\"\\nConfusion Matrix Saved as 'bert_confusion_matrix.png'\")\n",
    "\n",
    "plt.show()\n"
   ]
  },
  {
   "cell_type": "markdown",
   "id": "bb94694b-bc81-4e02-a452-ce821319e87b",
   "metadata": {},
   "source": [
    "## Compare Training & Validation Accuracy"
   ]
  },
  {
   "cell_type": "code",
   "execution_count": null,
   "id": "857a776d-34c7-4e33-80b7-9d96cf374748",
   "metadata": {},
   "outputs": [],
   "source": []
  }
 ],
 "metadata": {
  "kernelspec": {
   "display_name": "Python 3 (ipykernel)",
   "language": "python",
   "name": "python3"
  },
  "language_info": {
   "codemirror_mode": {
    "name": "ipython",
    "version": 3
   },
   "file_extension": ".py",
   "mimetype": "text/x-python",
   "name": "python",
   "nbconvert_exporter": "python",
   "pygments_lexer": "ipython3",
   "version": "3.12.9"
  }
 },
 "nbformat": 4,
 "nbformat_minor": 5
}
